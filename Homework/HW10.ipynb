{
 "cells": [
  {
   "cell_type": "markdown",
   "metadata": {},
   "source": [
    "# Chem 30324, Spring 2020, Homework 10\n"
   ]
  },
  {
   "cell_type": "markdown",
   "metadata": {},
   "source": [
    "# Due April 24, 2020"
   ]
  },
  {
   "cell_type": "markdown",
   "metadata": {},
   "source": [
    "## Thermodynamics from scratch.\n",
    "### Let’s calculate the thermodynamic properties of an ideal gas of CO molecules at 1 bar pressure. CO has a rotational constant B = 1.931 cm$^{-1}$ and vibrational frequency ν = 2156.6 cm$^{-1}$ . Suppose you have a 20 dm$^3$ cubic bottle containing 1 mole of CO gas that you can consider to behave ideally."
   ]
  },
  {
   "cell_type": "markdown",
   "metadata": {},
   "source": [
    "### 1. The characteristic temperature $\\Theta$ of a particular degree of freedom is the characteristic quantum of energy for the degree of freedom divided by $k_B$ . Calculate the characteristic translational, rotational, and vibrational temperatures of CO."
   ]
  },
  {
   "cell_type": "markdown",
   "metadata": {},
   "source": [
    "### 2. Calculate the *translational partition function* of a CO molecule in the bottle at 298 K. What is the unit of the partition function?"
   ]
  },
  {
   "cell_type": "markdown",
   "metadata": {},
   "source": [
    "### 3. Plot the *rotational and vibrational partition functions* of a CO molecule in the bottle from $T$ =  200  to 2000 K (assume the CO remains a gas over the whole range). *Hint:* Use your answer to Problem 1 to simplify calculating the rotational partition function."
   ]
  },
  {
   "cell_type": "markdown",
   "metadata": {},
   "source": [
    "### 4. Plot the *total translational, rotational, and vibrational energies* of CO in the bottle from $T =$ 200 to 2000 K (assume the CO remains a gas over the whole range). Which (if any) of the three types of motions dominate the total energy?"
   ]
  },
  {
   "cell_type": "markdown",
   "metadata": {},
   "source": [
    "### 5. Plot the *total translational, rotational, and vibrational constant volume molar heat capacities* of CO in the bottle from $T =$ 200 to 2000 K. Which (if any) of the three types of motions dominate the heat capacity?"
   ]
  },
  {
   "cell_type": "markdown",
   "metadata": {},
   "source": [
    "### 6. Plot the *total translational, rotational, and vibrational Helmholtz energies* of CO in the bottle from $T =$ 200 to 2000 K. Which (if any) of the three types of motions dominate the Helmholtz energy?"
   ]
  },
  {
   "cell_type": "markdown",
   "metadata": {},
   "source": [
    "### 7. Use your formulas to calculate $\\Delta P$, $\\Delta U$, $\\Delta A$, and $\\Delta S$ associated with isothermally expanding the gas from 20 dm$^3$ to 40 dm$^3$."
   ]
  },
  {
   "cell_type": "markdown",
   "metadata": {},
   "source": [
    "## Reactions from scratch\n",
    "### In 1996, Schneider and co-workers used quantum chemistry to compute the reaction pathway for unimolecular decomposition of trifluoromethanol, a reaction of relevance to the atmospheric degradation of hydrofluorocarbon refrigerants (*J. Phys. Chem.* **1996**, *100*, 6097- 6103, [doi:10.1021/jp952703m](https://pubs.acs.org/doi/abs/10.1021/jp952703m)): $$\\mathrm{CF_3OH\\rightarrow COF_2 + HF}$$\n",
    "### Following are some of the reported results, computed at 298 K:"
   ]
  },
  {
   "cell_type": "markdown",
   "metadata": {},
   "source": [
    "|              | CF$_3$OH| C(O)F$_2$ | HF |    |\n",
    "|:--------------|---------:|-----------:|----:|----:| \n",
    "| $E^\\text{elec}$ | -412.90047 | -312.57028 | -100.31885 | (Hartree) |\n",
    "| ZPE             | 0.02889 | 0.01422 | 0.00925 | (Hartree) |\n",
    "| $U^\\text{trans}$ | 3.7 | 3.7| 3.7 | (kJ mol$^{-1}$) |\n",
    "| $U^\\text{rot }$ | 3.7 | 3.7| 2.5 | (kJ mol$^{-1}$) |\n",
    "| $U^\\text{vib}$ | 4.3 | 1.2 | 0 |  (kJ mol$^{-1}$) |\n",
    "| $q^{\\text{trans}}/V$ | $7.72\\times 10^{32}$ | $1.59\\times 10^{32}$ |$8.65\\times 10^{31}$ | (m$^{-3}$) |\n",
    "| $q^\\text{rot}$ | 61830 | 679 | 9.59 | |\n",
    "| $q^\\text{vib}$ | 2.33 | 1.16 | 1 | |"
   ]
  },
  {
   "cell_type": "markdown",
   "metadata": {},
   "source": [
    "### 8. Using the data provided, determine $\\Delta U^{\\circ}$(298 K)), in kJ mol$^{-1}$, assuming ideal behavior and 1 M standard state.  Recall that $U(T)$ is the sum of the contributions of all degrees of freedom.  "
   ]
  },
  {
   "cell_type": "markdown",
   "metadata": {},
   "source": [
    "### 9. Using the data provided, determine  $\\Delta A^{\\circ}$(298 K) in kJ mol$^{-1}$, assuming ideal behavior and 1 M standard state.  Recall that $A^\\circ=E^\\text{elec} + \\text{ZPE}-RT\\ln(q^\\circ)-RT$ and that $q^\\circ =(q^\\text{trans}/V)q^\\text{rot}q^\\text{vib}/c^\\circ$ in units corresponding with the standard state."
   ]
  },
  {
   "cell_type": "markdown",
   "metadata": {},
   "source": [
    "### 10. Determine $\\Delta G^\\circ$(298 K).  Recall that $G = A + PV = A + RT$ for an ideal ga."
   ]
  },
  {
   "cell_type": "markdown",
   "metadata": {},
   "source": [
    "### 11. Determine $\\Delta S^{\\circ}$(298 K), in J mol$^{-1}$ K$^{-1}$ , assuming a 1 M standard state. Recall that $S = (U - A)/T$."
   ]
  },
  {
   "cell_type": "markdown",
   "metadata": {},
   "source": [
    "### 12. Using the data provided, determine $K_c$ (298 K), assuming a 1 M standard state.  You may either determine from partition functions of from the relationship between $K_c$ and $\\Delta G^\\circ$."
   ]
  },
  {
   "cell_type": "markdown",
   "metadata": {},
   "source": [
    "### 13. 1 mole of CF$_3$OH is generated in a 20 L vessel at 298 K and left long enough to come to equilibrium with respect to its decomposition reaction. What is the composition of the gas (concentrations of all the components) at equilibrium (in mol/L)?"
   ]
  },
  {
   "cell_type": "markdown",
   "metadata": {},
   "source": [
    "### 14. How, directionally, would your answer to Question 13 change if the vessel was at a higher temperature? Use the van'T Hoff relationship to determine the equilibrium constant and equilibrium concentrations at 273 and 323 K. How good was your guess?"
   ]
  },
  {
   "cell_type": "markdown",
   "metadata": {},
   "source": [
    "### 15. How, directionally, would your answer to Question 13 change if the vessel had a volume of 5 L? Redo the calculation at this volume to verify your guess."
   ]
  },
  {
   "cell_type": "markdown",
   "metadata": {},
   "source": [
    "### 16. Consult a thermodynamics source (e.g. https://webbook.nist.gov/chemistry/) to determine $\\Delta H^\\circ$(298 K), $\\Delta S^\\circ$(298 K), and $\\Delta G^\\circ$(298 K) for the homologous reaction CH$_3$OH (g)$\\rightarrow$ H$_2$ (g) + H$_2$CO (g).  Does the substitution of F by H make the reaction more or less favorable?"
   ]
  },
  {
   "cell_type": "code",
   "execution_count": null,
   "metadata": {},
   "outputs": [],
   "source": []
  }
 ],
 "metadata": {
  "anaconda-cloud": {},
  "kernelspec": {
   "display_name": "Python 3",
   "language": "python",
   "name": "python3"
  },
  "language_info": {
   "codemirror_mode": {
    "name": "ipython",
    "version": 3
   },
   "file_extension": ".py",
   "mimetype": "text/x-python",
   "name": "python",
   "nbconvert_exporter": "python",
   "pygments_lexer": "ipython3",
   "version": "3.7.4"
  }
 },
 "nbformat": 4,
 "nbformat_minor": 1
}

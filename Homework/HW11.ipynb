{
 "cells": [
  {
   "cell_type": "markdown",
   "metadata": {},
   "source": [
    "# Chem 30324, Spring 2020, Homework 11\n"
   ]
  },
  {
   "cell_type": "markdown",
   "metadata": {},
   "source": [
    "# Due May 1, 2020"
   ]
  },
  {
   "cell_type": "markdown",
   "metadata": {},
   "source": [
    "## What to do with all that ethane?\n",
    "### Shale gas is often rich in ethane (C$_2$H$_6$), and what to do with that ethane is a pressing question. In the Thermodynamics lectures we looked at endothermic ethane dehydrogenation and the high temperatures necessary to push that equilibrium forward.  Partial oxidation of ethane to ethylene oxide (oxirane) is another option:"
   ]
  },
  {
   "cell_type": "markdown",
   "metadata": {},
   "source": [
    "$$\\text{C}_2\\text{H}_6 \\text{(g)} + \\frac{1}{2} \\text{O}_2 \\text{(g)}\\rightarrow \\text{C}_2\\text{H}_4\\text{O}\\text{(g)} + \\text{H}_2\\text{O}\\text{(g)}$$"
   ]
  },
  {
   "cell_type": "markdown",
   "metadata": {},
   "source": [
    "### At 500 K over an appropriate catalyst, the reaction is half-order in ethane, first-order in O$_2$, zero order in products, and has a rate constant of 0.8 bar$^{-1/2}$ s$^{-1}$. You plan to study the reaction in an isothermal, contant pressure batch reactor, starting with a 20 mole % excess of ethane ($n_\\text{C2H6}/n_\\text{O2} =1.2$) at 2 bar total pressure."
   ]
  },
  {
   "cell_type": "markdown",
   "metadata": {},
   "source": [
    "### 1. Draw the structure of ethylene oxide. "
   ]
  },
  {
   "cell_type": "markdown",
   "metadata": {},
   "source": [
    "### 2. Is the reaction as written an elementary step? Why or why not?"
   ]
  },
  {
   "cell_type": "markdown",
   "metadata": {},
   "source": [
    "### 3. Write down the rate law for the formation of ethylene oxide."
   ]
  },
  {
   "cell_type": "markdown",
   "metadata": {},
   "source": [
    "### 4. Create an ICE table for this reaction.  My advice is to create the table in terms of *moles* of species and an  advancement $\\xi$.  What is the maximum possible value of $\\xi$?"
   ]
  },
  {
   "cell_type": "markdown",
   "metadata": {},
   "source": [
    "### 5. Define a conversion *X* as $\\xi/\\xi_\\text{max}$, so $0 \\le X \\le 1$ Plot the partial pressures of all species vs $X$.  *Hint*: Recall the partial pressure is $P y_i$, and $y_i = N_i/N_\\text{tot}$  from the ICE table."
   ]
  },
  {
   "cell_type": "markdown",
   "metadata": {},
   "source": [
    "### 6. Plot the reaction rate vs $X$. Be sure to include appropriate units."
   ]
  },
  {
   "cell_type": "markdown",
   "metadata": {},
   "source": [
    "### 7. The apparent activation energy of the reaction is 60 kJ mol$^{-1}$.  What is the reaction prefactor? Include appropriate units."
   ]
  },
  {
   "cell_type": "markdown",
   "metadata": {},
   "source": [
    "### 8. The apparent activation energy of the reaction is 60 kJ mol$^{-1}$.  Estimate the rate constant at 550 K."
   ]
  },
  {
   "cell_type": "markdown",
   "metadata": {},
   "source": [
    "### 9. From the information given, can you predict the rate law for the reverse reaction?"
   ]
  },
  {
   "cell_type": "markdown",
   "metadata": {},
   "source": [
    "## Rate constants from scratch\n",
    "### In 1996, Schneider and co-workers used quantum chemistry to compute the reaction pathway for unimolecular decomposition of trifluoromethanol, a reaction of relevance to the atmospheric degradation of hydrofluorocarbon refrigerants (*J. Phys. Chem.* **1996**, *100*, 6097- 6103, [doi:10.1021/jp952703m](https://pubs.acs.org/doi/abs/10.1021/jp952703m)): \n",
    "\n",
    "$$\\text{CF}_3\\text{OH}\\rightarrow \\text{COF}_2 + \\text{HF}$$\n",
    "### Following are some of the reported results, computed at 298 K:"
   ]
  },
  {
   "cell_type": "markdown",
   "metadata": {},
   "source": [
    "|                     | CF$_3$OH             | \\[CF$_3$OH\\]$^\\ddagger$ | C(O)F$_2$ | HF |    |\n",
    "|:--------------------|---------------------:|-------------------------|----------:|---:|----:| \n",
    "| $E^\\text{elec}$     | -412.90047           | -412.82771              | -312.57028 | -100.31885 | (Hartree) |\n",
    "| ZPE                 | 0.02889              | 0.02313                 | 0.01422 | 0.00925 | (Hartree) |\n",
    "| $U^\\text{trans}$    | 3.7                  | 3.7   | 3.7| 3.7 | (kJ mol$^{-1}$) |\n",
    "| $U^\\text{rot }$     | 3.7                  | 3.7   | 3.7| 2.5 | (kJ mol$^{-1}$) |\n",
    "| $U^\\text{vib}$      | 4.3                  | 4.1   |1.2 | 0 |  (kJ mol$^{-1}$) |\n",
    "| $q^{\\text{trans}}/V$| $7.72\\times 10^{32}$ | $7.72\\times 10^{32}$   |$1.59\\times 10^{32}$ |$8.65\\times 10^{31}$ | (m$^{-3}$) |\n",
    "| $q^\\text{rot}$      | 61830                |  68420  | 679 | 9.59 | |\n",
    "| $q^\\text{vib}$      | 2.33                 |  2.28  | 1.16 | 1 | |"
   ]
  },
  {
   "cell_type": "markdown",
   "metadata": {},
   "source": [
    "### 10. Provide a rough sketch of what you expect the transition state to look like."
   ]
  },
  {
   "cell_type": "markdown",
   "metadata": {},
   "source": [
    "### 11. Based on the data in the table, sketch out an approximate potential energy surface for the unimolecular decomposition reaction. Indicate on the PES the location of the reactants, the products, and the transition state. Also indicate relevant zero point energies, the 0 K reaction energy, and the activation energy."
   ]
  },
  {
   "cell_type": "markdown",
   "metadata": {
    "collapsed": true
   },
   "source": [
    "### 12. Using data from the table and harmonic transition state theory, compute the  first-order rate constant for CF$_3$OH decomposition at 298 K, in s$^{-1}$."
   ]
  },
  {
   "cell_type": "markdown",
   "metadata": {},
   "source": [
    "### 13. In Homework 10, you computed the equilibrium constant for this reaction at 298 K.  Use that result and your rate constant for the decomposition to determine the rate constant for the reverse, CF$_3$OH formation reaction."
   ]
  },
  {
   "cell_type": "markdown",
   "metadata": {},
   "source": [
    "### 14. Use the data in the table to compute the overall reaction enthalpy, and the forward and reverse reaction enthalpies."
   ]
  },
  {
   "cell_type": "markdown",
   "metadata": {},
   "source": [
    "### 15. Based on your computed rate constant, what is the half-life of CF$_3$OH at 298 K?"
   ]
  },
  {
   "cell_type": "markdown",
   "metadata": {},
   "source": [
    "### 16. Experiments reveal that the CF$_3$OH comes to equilibrium far faster than the unimolecular rate would suggest. Provide a possible explanation for this observation (other than that Schneider calculations are incorrect!)."
   ]
  }
 ],
 "metadata": {
  "anaconda-cloud": {},
  "kernelspec": {
   "display_name": "Python 3",
   "language": "python",
   "name": "python3"
  },
  "language_info": {
   "codemirror_mode": {
    "name": "ipython",
    "version": 3
   },
   "file_extension": ".py",
   "mimetype": "text/x-python",
   "name": "python",
   "nbconvert_exporter": "python",
   "pygments_lexer": "ipython3",
   "version": "3.7.4"
  }
 },
 "nbformat": 4,
 "nbformat_minor": 1
}

{
  "cells": [
    {
      "cell_type": "code",
      "execution_count": null,
      "id": "90069e27-7930-4f44-a18f-6dcafb9271fb",
      "metadata": {
        "id": "90069e27-7930-4f44-a18f-6dcafb9271fb"
      },
      "outputs": [],
      "source": [
        "from scipy.stats import norm\n",
        "import numpy"
      ]
    },
    {
      "cell_type": "code",
      "execution_count": null,
      "id": "e77143a2-9eb7-453f-9385-fc6842be5263",
      "metadata": {
        "id": "e77143a2-9eb7-453f-9385-fc6842be5263",
        "outputId": "59c3af5c-ea08-4ebb-e11a-d72c066aaa8c"
      },
      "outputs": [
        {
          "name": "stdout",
          "output_type": "stream",
          "text": [
            "36.889030826299695\n"
          ]
        }
      ],
      "source": [
        "#Number 7\n",
        "k = 1.38065e-23\n",
        "T = 298\n",
        "d = 0.4e-9\n",
        "p = 1e5\n",
        "m = 44*1.6605e-27\n",
        "\n",
        "y = norm.ppf(2/3)\n",
        "\n",
        "sigma = 1/y\n",
        "lamb = (k*T)/(p*numpy.sqrt(2)*numpy.pi*(d)**2)\n",
        "v = numpy.sqrt((8*k*T)/(numpy.pi*m))\n",
        "D11 = (1/3)*v*lamb*10000 #Extra factor to convert to cm^2/s\n",
        "\n",
        "t = (sigma**2)/(2*D11)\n",
        "print(t)"
      ]
    },
    {
      "cell_type": "code",
      "execution_count": null,
      "id": "2a4ade0d-232c-418a-8beb-11d45a420466",
      "metadata": {
        "id": "2a4ade0d-232c-418a-8beb-11d45a420466",
        "outputId": "97925714-5a18-4222-e83f-80530cbe5ff0"
      },
      "outputs": [
        {
          "name": "stdout",
          "output_type": "stream",
          "text": [
            "2.413551e+11\n"
          ]
        }
      ],
      "source": [
        "#Problem 8\n",
        "Num = (v/lamb)*t\n",
        "print(\"{:e}\".format(Num))"
      ]
    },
    {
      "cell_type": "code",
      "execution_count": null,
      "id": "f63cc3ca-89cf-4411-a25b-880fee1473d9",
      "metadata": {
        "id": "f63cc3ca-89cf-4411-a25b-880fee1473d9",
        "outputId": "b7e28470-3341-4a6d-da72-f2e79b469390"
      },
      "outputs": [
        {
          "name": "stdout",
          "output_type": "stream",
          "text": [
            "13969.19741424259\n",
            "True\n"
          ]
        }
      ],
      "source": [
        "#Problem 9\n",
        "dist_1 = v*t\n",
        "dist_2 = (lamb*Num)\n",
        "\n",
        "print(dist_1)\n",
        "\n",
        "print(dist_1 == dist_2)"
      ]
    },
    {
      "cell_type": "code",
      "execution_count": null,
      "id": "7dcf6308-9488-476c-a1dd-804e6e74e83c",
      "metadata": {
        "id": "7dcf6308-9488-476c-a1dd-804e6e74e83c",
        "outputId": "4c45738e-1c60-485d-80c2-cddac1d2f4e3"
      },
      "outputs": [
        {
          "name": "stdout",
          "output_type": "stream",
          "text": [
            "2.891506819965661e+24\n"
          ]
        }
      ],
      "source": [
        "#Problem 10\n",
        "Jw = (1/4)*(p/(k*T))*v\n",
        "A = .02**2*numpy.pi\n",
        "time = 1\n",
        "num = Jw*A*time\n",
        "print(num)"
      ]
    },
    {
      "cell_type": "code",
      "execution_count": null,
      "id": "ff6bf4b4-f0d9-4848-ab25-b46421a75ffa",
      "metadata": {
        "id": "ff6bf4b4-f0d9-4848-ab25-b46421a75ffa",
        "outputId": "353e8bb6-185b-4a4a-f987-15b483e2bd14"
      },
      "outputs": [
        {
          "name": "stdout",
          "output_type": "stream",
          "text": [
            "164628.57032240863\n"
          ]
        }
      ],
      "source": [
        "#Problem 11\n",
        "eta = 1e-3\n",
        "D_2 = (k*T)/(4*numpy.pi*(d/2)*eta)*10000\n",
        "t2 = (sigma**2)/(2*D_2)\n",
        "print(t2)"
      ]
    },
    {
      "cell_type": "code",
      "execution_count": null,
      "id": "dca9609e-bc25-4bc8-b160-15629803666a",
      "metadata": {
        "id": "dca9609e-bc25-4bc8-b160-15629803666a",
        "outputId": "13dd6a9f-e334-4c47-a08a-e011ade34b2c"
      },
      "outputs": [
        {
          "name": "stdout",
          "output_type": "stream",
          "text": [
            "109948.36148499705\n",
            "1.0851059608684632\n"
          ]
        }
      ],
      "source": [
        "#Problem 13\n",
        "#Starts by getting numbers in consistent units\n",
        "V = 100/(100**3) #cm^3 to m^3\n",
        "P_0 = 1.1*101325 #atm to Pa\n",
        "a = 1*(1e-6)**2 #um^2 to m^2\n",
        "Time = 4*3600 #hours to seconds\n",
        "\n",
        "tau = V/a*(2*numpy.pi*m/(k*T))**0.5\n",
        "\n",
        "P_f = P_0*numpy.exp(-Time/tau)\n",
        "Pf_atm = P_f/101325\n",
        "\n",
        "print(P_f)\n",
        "print(Pf_atm)"
      ]
    }
  ],
  "metadata": {
    "kernelspec": {
      "display_name": "Python 3 (ipykernel)",
      "language": "python",
      "name": "python3"
    },
    "language_info": {
      "codemirror_mode": {
        "name": "ipython",
        "version": 3
      },
      "file_extension": ".py",
      "mimetype": "text/x-python",
      "name": "python",
      "nbconvert_exporter": "python",
      "pygments_lexer": "ipython3",
      "version": "3.9.6"
    },
    "colab": {
      "provenance": []
    }
  },
  "nbformat": 4,
  "nbformat_minor": 5
}
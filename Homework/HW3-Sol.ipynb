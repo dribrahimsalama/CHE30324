{
  "cells": [
    {
      "cell_type": "markdown",
      "source": [
        "# HW 3 #"
      ],
      "metadata": {
        "id": "McjsxFPOVPTA"
      },
      "id": "McjsxFPOVPTA"
    },
    {
      "cell_type": "markdown",
      "source": [
        "## 1.1 Heat Capacity of Solids ##"
      ],
      "metadata": {
        "id": "s357_JzyWUq1"
      },
      "id": "s357_JzyWUq1"
    },
    {
      "cell_type": "code",
      "execution_count": null,
      "id": "7025edc6",
      "metadata": {
        "id": "7025edc6"
      },
      "outputs": [],
      "source": [
        "import numpy as np\n",
        "import matplotlib.pyplot as plt"
      ]
    },
    {
      "cell_type": "code",
      "source": [
        "import warnings\n",
        "warnings.filterwarnings('ignore') #Graph throws warnings for the small values of T close to 0"
      ],
      "metadata": {
        "id": "Lf5EXM6GTGgW"
      },
      "id": "Lf5EXM6GTGgW",
      "execution_count": null,
      "outputs": []
    },
    {
      "cell_type": "code",
      "source": [
        "#Problem 2\n",
        "Temp = np.linspace(0,1500)\n",
        "h = 6.62607e-34 #J*s\n",
        "nu = 2.75e13 #s^-1\n",
        "k = 1.38065e-23 #J/K\n",
        "R = 8.314472 #J/K*mol\n",
        "\n",
        "const = (h*nu)/(k*Temp)\n",
        "Cap = R*((const)**2)*(np.exp(const)/((np.exp(const)-1)**2))\n",
        "\n",
        "plt.plot(Temp,Cap)\n",
        "plt.xlabel('Temperature(K)')\n",
        "plt.ylabel('Heat Capacity(J/mol*K)')"
      ],
      "metadata": {
        "colab": {
          "base_uri": "https://localhost:8080/",
          "height": 466
        },
        "id": "0Oax8CWfTZXb",
        "outputId": "d9f2a7b2-5391-477d-9bf9-90424c2a4317"
      },
      "id": "0Oax8CWfTZXb",
      "execution_count": null,
      "outputs": [
        {
          "output_type": "execute_result",
          "data": {
            "text/plain": [
              "Text(0, 0.5, 'Heat Capacity(J/mol*K)')"
            ]
          },
          "metadata": {},
          "execution_count": 18
        },
        {
          "output_type": "display_data",
          "data": {
            "text/plain": [
              "<Figure size 640x480 with 1 Axes>"
            ],
            "image/png": "[encoded data removed]"
          },
          "metadata": {}
        }
      ]
    },
    {
      "cell_type": "code",
      "source": [
        "#Problem 3\n",
        "\n",
        "def P(n,T):\n",
        "    return np.exp((-n*h*nu)/(k*T))*(1-np.exp((-h*nu)/(k*T)))\n",
        "\n",
        "print(P(1,1500),'n=1 at 1500 K')\n",
        "print(P(0,1500),'n=0 at 1500 K')\n",
        "print(P(1,150),'n=1 at 150 K')\n",
        "print(P(0,150),'n=0 at 150 K')"
      ],
      "metadata": {
        "colab": {
          "base_uri": "https://localhost:8080/"
        },
        "id": "FbwelfNUT527",
        "outputId": "7e8e06b4-de30-4059-bf2a-b3ba65e0fde1"
      },
      "id": "FbwelfNUT527",
      "execution_count": null,
      "outputs": [
        {
          "output_type": "stream",
          "name": "stdout",
          "text": [
            "0.24274790174502242 n=1 at 1500 K\n",
            "0.5851592523157498 n=0 at 1500 K\n",
            "0.00015092060049755725 n=1 at 150 K\n",
            "0.9998490566155972 n=0 at 150 K\n"
          ]
        }
      ]
    },
    {
      "cell_type": "markdown",
      "metadata": {
        "id": "LpECHJs2vcsq"
      },
      "source": [
        "## 1.2 Blackbody radiators ##\n",
        "By treating the sun as a blackbody radiator, Joseph Stefan derived the first reliable estimate of the temperature of the sun’s surface."
      ],
      "id": "LpECHJs2vcsq"
    },
    {
      "cell_type": "markdown",
      "metadata": {
        "id": "Xx1z8DGyXAbB"
      },
      "source": [
        "### 4. Stefan estimated that the power per unit area radiated from the surface of the sun was 43.5 times greater than that of a metal bar heated to 1950 ̊C. What is the temperature of the sun?"
      ],
      "id": "Xx1z8DGyXAbB"
    },
    {
      "cell_type": "code",
      "source": [
        "T_metal = 1950+273 # K\n",
        "n = 43.5\n",
        "\n",
        "#Then we use Stefan-Boltzmann law to calculate the Temperature of the sun\n",
        "T_sun = (n*T_metal**4)**0.25 # K, Stefan-Boltzmann Law\n",
        "print(\"The temperature of the sun is {:.3f} K.\".format(T_sun))"
      ],
      "metadata": {
        "colab": {
          "base_uri": "https://localhost:8080/"
        },
        "outputId": "18855692-34c1-4c6c-bcb1-895ae3148dfa",
        "id": "PQuZbT2xXAbB"
      },
      "execution_count": null,
      "outputs": [
        {
          "output_type": "stream",
          "name": "stdout",
          "text": [
            "The temperature of the sun is 5709.023 K.\n"
          ]
        }
      ],
      "id": "PQuZbT2xXAbB"
    },
    {
      "cell_type": "markdown",
      "metadata": {
        "id": "dmhDbx46XAbB"
      },
      "source": [
        "### 5. Based on this temperature, what wavelength $\\lambda$ of light does the sun emit most intensely, in nm? What frequency of light, in s$^{–1}$? What color does this correspond to?"
      ],
      "id": "dmhDbx46XAbB"
    },
    {
      "cell_type": "code",
      "source": [
        "W_cons = 2897768 # nm*k, Wien's Law\n",
        "lam_max = W_cons/T_sun # nm\n",
        "c = 2.99792e8 # m/s\n",
        "nu = c/(lam_max*1e-9) # s^-1\n",
        "print('The wavelength of light that the sun emits most intensely is {0:.3f} nm, the frequency is {1:0.3E} s^-1.'.format(lam_max,nu))\n",
        "print('This is green light.')"
      ],
      "metadata": {
        "colab": {
          "base_uri": "https://localhost:8080/"
        },
        "outputId": "ed51a306-327e-4326-d882-bcd789293378",
        "id": "m1IQw_V7XAbB"
      },
      "execution_count": null,
      "outputs": [
        {
          "output_type": "stream",
          "name": "stdout",
          "text": [
            "The wavelength of light that the sun emits most intensely is 507.577 nm, the frequency is 5.906E+14 s^-1.\n",
            "This is green light.\n"
          ]
        }
      ],
      "id": "m1IQw_V7XAbB"
    },
    {
      "cell_type": "markdown",
      "source": [
        "The classical physics theory regarding blackbody radiation predicted that an infinite amount of energy is emitted at small wavelengths, which makes no sense from the perspective of energy conservation. Because small wavelengths correspond to the ultraviolet end of the spectrum, this puzzle was known as the ultraviolet catastrophe. Planck assumed that energy is quantized, which means electromagnetic radiation can only be emitted or absorbed in discrete  energy in units of hv = hc/lambda"
      ],
      "metadata": {
        "id": "PgTeWwQBXciv"
      },
      "id": "PgTeWwQBXciv"
    },
    {
      "cell_type": "markdown",
      "id": "734f5df4",
      "metadata": {
        "id": "734f5df4"
      },
      "source": [
        "## 1.3 Photoelectric effect ##"
      ]
    },
    {
      "cell_type": "markdown",
      "id": "17d98546",
      "metadata": {
        "id": "17d98546"
      },
      "source": [
        "### 1.3.1 ###"
      ]
    },
    {
      "cell_type": "code",
      "execution_count": null,
      "id": "7257196e",
      "metadata": {
        "id": "7257196e",
        "outputId": "0e63e889-deac-4abc-fc19-d3411f6be947",
        "colab": {
          "base_uri": "https://localhost:8080/",
          "height": 432
        }
      },
      "outputs": [
        {
          "output_type": "display_data",
          "data": {
            "text/plain": [
              "<Figure size 640x480 with 1 Axes>"
            ],
            "image/png": "[encoded data removed]"
          },
          "metadata": {}
        }
      ],
      "source": [
        "intensity = np.linspace(0,500,500) # intensity square\n",
        "ke = intensity**2 # Kinetic energy = energy of the wave = constant*intensity square\n",
        "plt.plot(intensity,ke)\n",
        "plt.xlabel('Intensity',fontsize=16,fontweight='bold')\n",
        "plt.ylabel('Kinetic Energy',fontsize=16,fontweight='bold')\n",
        "# Removing numbers on both axes\n",
        "plt.xticks([])  # Remove numbers on the x-axis\n",
        "plt.yticks([])  # Remove numbers on the y-axis\n",
        "\n",
        "plt.show()"
      ]
    },
    {
      "cell_type": "markdown",
      "id": "df6a91dd",
      "metadata": {
        "id": "df6a91dd"
      },
      "source": [
        "### 1.3.2 ###"
      ]
    },
    {
      "cell_type": "markdown",
      "id": "cac1c8a8",
      "metadata": {
        "id": "cac1c8a8"
      },
      "source": [
        "### Gathering data from the problem: ###"
      ]
    },
    {
      "cell_type": "code",
      "execution_count": null,
      "id": "acf9448a",
      "metadata": {
        "id": "acf9448a"
      },
      "outputs": [],
      "source": [
        "c = 2.99792e8 # value speed of light m/s\n",
        "wavelength = [263,250,234,218,184] # wavelenght in nanometers\n",
        "KE = [0.13,0.33,0.68,1.08,2.13] # kinetic energies in eV"
      ]
    },
    {
      "cell_type": "code",
      "execution_count": null,
      "id": "c75d9a3e",
      "metadata": {
        "id": "c75d9a3e"
      },
      "outputs": [],
      "source": [
        "frequency = [] # stores frequencies calculated based on the given wavelengths\n",
        "for i in wavelength: #iterates over each wavelength in the wavelength list, calculates corresponding frequency\n",
        "    frequency.append(c/(i*1.0e-9)) # s^-1, frequency = c/wavelength; appending result to frequency list\n",
        "\n",
        "h, W = np.polyfit(frequency, KE, 1) #linear fitting; slope related to Planck's constant and y-intercept related to\n",
        "                                    #work function of metal"
      ]
    },
    {
      "cell_type": "code",
      "execution_count": null,
      "id": "ddfc6b3d",
      "metadata": {
        "id": "ddfc6b3d",
        "outputId": "b494b86e-85bb-448b-b3a2-1597c7d07a85",
        "colab": {
          "base_uri": "https://localhost:8080/",
          "height": 526
        }
      },
      "outputs": [
        {
          "output_type": "stream",
          "name": "stdout",
          "text": [
            "The workfunction of the metal is 4.598 eV\n",
            "Planck's constant (h) is 4.127E-15 eV*s\n"
          ]
        },
        {
          "output_type": "display_data",
          "data": {
            "text/plain": [
              "<Figure size 640x480 with 1 Axes>"
            ],
            "image/png": "[encoded data removed]"
          },
          "metadata": {}
        }
      ],
      "source": [
        "KE_fit = np.poly1d([0,h,W]) # A 1-D polynomial class representing linear fit done before\n",
        "print ('The workfunction of the metal is {0:.3f} eV\\nPlanck\\'s constant (h) is {1:.3E} eV*s'.format(-W,h))\n",
        "plt.plot(frequency, KE, '.')\n",
        "plt.plot(frequency, KE_fit(frequency), '-')\n",
        "plt.xlabel('Frequency(s$^{-1}$)',fontsize=16,fontweight='bold')\n",
        "plt.ylabel('Kinetic energy(eV)',fontsize=16,fontweight='bold')\n",
        "plt.text(1.3e15, 1.0, 'KE = h$\\\\nu$-W', ha='right', va='bottom')\n",
        "plt.title('KE($\\\\nu$)',fontsize=16,fontweight='bold')\n",
        "plt.show()"
      ]
    },
    {
      "cell_type": "markdown",
      "source": [
        "## 1.4 Diffraction ##"
      ],
      "metadata": {
        "id": "DEA36vkYWsW3"
      },
      "id": "DEA36vkYWsW3"
    },
    {
      "cell_type": "code",
      "source": [
        "#Problem 10\n",
        "lamb = 2.9/10 #Angstrom to nm\n",
        "hc = 1239.8 #eV/nm\n",
        "\n",
        "E = (hc)/lamb\n",
        "print(E,'eV')"
      ],
      "metadata": {
        "colab": {
          "base_uri": "https://localhost:8080/"
        },
        "id": "c2VN00wBUSxw",
        "outputId": "e86a9b0d-505d-42a4-eb1e-abe2a00ec182"
      },
      "id": "c2VN00wBUSxw",
      "execution_count": null,
      "outputs": [
        {
          "output_type": "stream",
          "name": "stdout",
          "text": [
            "4275.172413793103 eV\n"
          ]
        }
      ]
    },
    {
      "cell_type": "code",
      "source": [
        "#Problem 11\n",
        "P = 1e-6*6.2415e18 # W=J/s, convert to eV/s\n",
        "\n",
        "num = P/E\n",
        "print(num,'photons/s')"
      ],
      "metadata": {
        "colab": {
          "base_uri": "https://localhost:8080/"
        },
        "id": "gmNYWdoNUqhN",
        "outputId": "6f447397-2793-45da-de37-d69619520bfa"
      },
      "id": "gmNYWdoNUqhN",
      "execution_count": null,
      "outputs": [
        {
          "output_type": "stream",
          "name": "stdout",
          "text": [
            "1459941119.535409 photons/s\n"
          ]
        }
      ]
    },
    {
      "cell_type": "code",
      "source": [
        "#Problem 12\n",
        "m_e= 9.1094e-31 #kg\n",
        "c = 2.9979e8 #m/s\n",
        "\n",
        "v = h/(m_e*(lamb/1e9))\n",
        "print (v,'m/s')\n",
        "print(v/c)"
      ],
      "metadata": {
        "colab": {
          "base_uri": "https://localhost:8080/"
        },
        "id": "_APuK4zvUwkq",
        "outputId": "55c07f55-5f9e-4cf1-f56e-d63be14fff31"
      },
      "id": "_APuK4zvUwkq",
      "execution_count": null,
      "outputs": [
        {
          "output_type": "stream",
          "name": "stdout",
          "text": [
            "1.5621675522596458e+25 m/s\n",
            "5.210872785148423e+16\n"
          ]
        }
      ]
    },
    {
      "cell_type": "markdown",
      "metadata": {
        "id": "YNauhmhvvcss"
      },
      "source": [
        "## 1.5 The Bohr atom ##\n",
        "Bohr developed the first successful model of the energy spectrum of a hydrogen atom by postulating that electrons can only exist in certain fixed energy “orbits” indexed by the quantum number $n$. (Recall that the equations describing the Bohr atom are in Table 4 of the course outline.)"
      ],
      "id": "YNauhmhvvcss"
    },
    {
      "cell_type": "markdown",
      "metadata": {
        "id": "qjEo1rOTvcss"
      },
      "source": [
        "### 13. Would light need to be absorbed or emitted to cause an electron to jump from the $n$ = 1 to the $n$ = 2 orbit? What wavelength of light does this correspond to?"
      ],
      "id": "qjEo1rOTvcss"
    },
    {
      "cell_type": "code",
      "source": [
        "#Energy of a Hydrogen molecule\n",
        "EH = 27.212 # eV\n",
        "\n",
        "#Energy at each of the orbital\n",
        "n1 = 1\n",
        "n2 = 2\n",
        "E1 = -EH/2/n1**2 # eV\n",
        "E2 = -EH/2/n2**2 # eV\n",
        "\n",
        "#Calculating the wavelength\n",
        "hc = 1240 # eV*nm\n",
        "deltaE = E2-E1 # eV\n",
        "wavelength = hc/deltaE # nm\n",
        "print ('Light needs to be absorbed to cause an electron to jump from the n=1 to n=2 orbit. \\nThe wavelength is {:.5f} nm.'.format(wavelength))"
      ],
      "metadata": {
        "colab": {
          "base_uri": "https://localhost:8080/"
        },
        "id": "UptAOXTqU2mE",
        "outputId": "6fd403ac-68f1-442d-e77e-cff1ab699622"
      },
      "execution_count": null,
      "outputs": [
        {
          "output_type": "stream",
          "name": "stdout",
          "text": [
            "Light needs to be absorbed to cause an electron to jump from the n=1 to n=2 orbit. \n",
            "The wavelength is 121.51502 nm.\n"
          ]
        }
      ],
      "id": "UptAOXTqU2mE"
    },
    {
      "cell_type": "markdown",
      "metadata": {
        "id": "kcbBYJG8vcss"
      },
      "source": [
        "### 14. What is the circumference of the $n$ = 2 orbit? What is the de Broglie wavelength of an electron in the $n$ = 2 orbit? How do these compare?"
      ],
      "id": "kcbBYJG8vcss"
    },
    {
      "cell_type": "code",
      "source": [
        "\n",
        "#First we calculate the circumference using the given constant\n",
        "\n",
        "a0 = 0.529177e-10 # m, Bohr radius for hydrogen atom\n",
        "\n",
        "#calculate the r at the second orbital\n",
        "r2 = a0*n2**2 # m\n",
        "\n",
        "#using the circumference formula\n",
        "l = 2*np.pi*r2 # m, circumference\n",
        "\n",
        "#constants\n",
        "k = 2.30708e-28 # J*m, k = e^2/(4*pi*epsilon), the value of the constant is in the course outline.\n",
        "me = 9.109e-31 # kg, #mass of electron\n",
        "h = 6.62607e-34 # J*s\n",
        "hbar = 1.05457e-34 #J*s, reduced Planck constant\n",
        "\n",
        "#calculate the wavelength\n",
        "p0 = k*me/hbar # kg*m/s\n",
        "p2 = p0/n2\n",
        "wavelength_2 = h/p2 # m\n",
        "print('The circumference of the n=2 orbit is {0:.5E} m. \\nThe de Broglie wavelength of an electron in the n=2 orbit is {1:.5E} m. \\nThe relationship is the circumference={2:.2f}*the de Broglie wavelength.'.format(l,wavelength_2,l/wavelength_2))\n"
      ],
      "metadata": {
        "colab": {
          "base_uri": "https://localhost:8080/"
        },
        "id": "j34NngY1VRkC",
        "outputId": "7a7b880a-4038-45ef-ed52-c11b62a98ef2"
      },
      "execution_count": null,
      "outputs": [
        {
          "output_type": "stream",
          "name": "stdout",
          "text": [
            "The circumference of the n=2 orbit is 1.32997E-09 m. \n",
            "The de Broglie wavelength of an electron in the n=2 orbit is 6.65010E-10 m. \n",
            "The relationship is the circumference=2.00*the de Broglie wavelength.\n"
          ]
        }
      ],
      "id": "j34NngY1VRkC"
    }
  ],
  "metadata": {
    "kernelspec": {
      "display_name": "Python 3 (ipykernel)",
      "language": "python",
      "name": "python3"
    },
    "language_info": {
      "codemirror_mode": {
        "name": "ipython",
        "version": 3
      },
      "file_extension": ".py",
      "mimetype": "text/x-python",
      "name": "python",
      "nbconvert_exporter": "python",
      "pygments_lexer": "ipython3",
      "version": "3.10.12"
    },
    "colab": {
      "provenance": []
    }
  },
  "nbformat": 4,
  "nbformat_minor": 5
}
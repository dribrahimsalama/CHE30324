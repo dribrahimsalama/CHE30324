{
  "cells": [
    {
      "cell_type": "markdown",
      "metadata": {
        "id": "NNcy97Iz_07R"
      },
      "source": [
        "# Chem 30324, Spring 2024, Homework 4\n",
        "\n",
        "# Due February 26, 2024"
      ]
    },
    {
      "cell_type": "markdown",
      "metadata": {
        "id": "zsORtn-2_07Z"
      },
      "source": [
        "### Schr&ouml;dinger developed a wave equation to describe the motion (mechanics) of quantum-scale particles moving in potentials. An electron (mass $m_e$) is moving in a one-dimensional potential given by"
      ]
    },
    {
      "cell_type": "markdown",
      "metadata": {
        "id": "owiPj6is_07b"
      },
      "source": [
        "$$V(x) = \\frac{1}{2} k x^ 2, \\quad -\\infty < x < \\infty$$"
      ]
    },
    {
      "cell_type": "markdown",
      "metadata": {
        "id": "Ivf7ZDeC_07c"
      },
      "source": [
        "### where $k$ is a real number."
      ]
    },
    {
      "cell_type": "markdown",
      "metadata": {
        "id": "OtJCFyru_07d"
      },
      "source": [
        "### 1. Write down the time-independent Schrödinger equation for this system. Remember to include the domain of the equation. Indicate the parts of the equation corresponding to the kinetic, potential, and total energies of the system. (*Hint*: Leave your expression in terms of $m_e$ and $k$.)"
      ]
    },
    {
      "cell_type": "markdown",
      "metadata": {
        "id": "vqoVxDqE_07e"
      },
      "source": [
        "### 2. Only one of the three following candidates could be an acceptable wavefunction for this system.  Which one, and why? (In each case, $b=\\left ( \\hbar^2/m_ek\\right )^{1/4}$ is a unit of length, and $a$ is an arbitrary normalization constant."
      ]
    },
    {
      "cell_type": "markdown",
      "metadata": {
        "id": "6cKpngGZ_07e"
      },
      "source": [
        "$$\\psi(x) = a \\sin(bx) \\quad\\quad \\quad \\psi(x)=a \\exp\\left(-\\frac{x^2}{2b^2}\\right) \\quad\\quad \\quad \\psi(x)= \\begin{cases}1-|x|/b, |x|\\le b \\\\ 0, |x|>b \\end{cases}$$"
      ]
    },
    {
      "cell_type": "markdown",
      "metadata": {
        "id": "Il-e4REG_07f"
      },
      "source": [
        "### 3. Normalize the \"good\" wavefunction. You can leave your answer in terms of $b$.  "
      ]
    },
    {
      "cell_type": "markdown",
      "metadata": {
        "id": "X1yfTPCl_07g"
      },
      "source": [
        "### 4. Plot $V(x)$ and your normalized $\\tilde{\\psi}^2(x)$ along the same $x$ axis. (*Hint*: Plot your answers in units of $b$ length and units of $k$ force constant.)"
      ]
    },
    {
      "cell_type": "markdown",
      "metadata": {
        "id": "kwGZtBU7_07g"
      },
      "source": [
        "### 5. If you look for this particle, what is the probability you find it in the region $0 < x <b $?"
      ]
    },
    {
      "cell_type": "markdown",
      "metadata": {
        "id": "3INDWSUn_07h"
      },
      "source": [
        "### 6. Is your normalized $\\tilde{\\psi}(x)$ a solution of your Schr&ouml;dinger equation? If so, what is its total energy?  (*Hint*: $\\dfrac{d^2}{dx^2}e^{-ax^2} = 2 a e^{-ax^2} \\left (2a x^2 -1\\right)$. You can leave your answer in terms of fundamental constants.)"
      ]
    },
    {
      "cell_type": "markdown",
      "metadata": {
        "id": "0-0Ou0X9_07h"
      },
      "source": [
        "### 7. Is your normalized $\\tilde{\\psi}(x)$ an eigenfunction of the linear momentum operator? If so, what is its eigenvalue?"
      ]
    },
    {
      "cell_type": "markdown",
      "metadata": {
        "id": "UCepVAqB_07h"
      },
      "source": [
        "### 8. If you were to measure the linear momentum of many electrons, all with the same wavefunction $\\tilde{\\psi}(x)$ , will you get the same answer every time?   "
      ]
    },
    {
      "cell_type": "markdown",
      "metadata": {
        "id": "UaIkp1s8_07h"
      },
      "source": [
        "### 9. If you were to measure the linear momentum of many electrons, all with the same wavefunction $\\tilde{\\psi}(x)$ , what will you get on average?"
      ]
    },
    {
      "cell_type": "markdown",
      "metadata": {
        "id": "XaFXaMjs_07i"
      },
      "source": [
        "### 9. What is the *uncertainty* in the momentum of the electron? (Recall the uncertainty is given by $\\Delta p = \\sqrt{\\langle p^2 \\rangle - \\langle p \\rangle^2}$.)  You can give your answer in units of $m_e$, $\\hbar$, and $b$."
      ]
    },
    {
      "cell_type": "markdown",
      "metadata": {
        "id": "Z-et-E6J_07i"
      },
      "source": [
        "### 10. What is the maximum precision with which you could measure the position of the electron? Give your answer in units of $b$."
      ]
    },
    {
      "cell_type": "markdown",
      "metadata": {
        "id": "z2pCMBoL_07i"
      },
      "source": [
        "### 11. You probably recognize $V(x)$ as the potential for a harmonic oscillator, and you remember that a classic harmonic oscillator always oscillates within some amplitude $A$. Look at $\\tilde{\\psi}(x)$. Does it go to zero at some $A$?  Or is it non-zero all the way to infinity?"
      ]
    }
  ],
  "metadata": {
    "anaconda-cloud": {},
    "kernelspec": {
      "display_name": "Python 3 (ipykernel)",
      "language": "python",
      "name": "python3"
    },
    "language_info": {
      "codemirror_mode": {
        "name": "ipython",
        "version": 3
      },
      "file_extension": ".py",
      "mimetype": "text/x-python",
      "name": "python",
      "nbconvert_exporter": "python",
      "pygments_lexer": "ipython3",
      "version": "3.9.6"
    },
    "colab": {
      "provenance": []
    }
  },
  "nbformat": 4,
  "nbformat_minor": 0
}
{
  "cells": [
    {
      "cell_type": "markdown",
      "metadata": {
        "id": "JnemmWSXMRCU"
      },
      "source": [
        "# Chem 30324, Spring 2024, Homework 5\n",
        "# Due March 4, 2024"
      ]
    },
    {
      "cell_type": "markdown",
      "metadata": {
        "id": "_is6WyUPMRCW"
      },
      "source": [
        "## Real-world particle-in-a-box.\n",
        "### A one-dimensional particle-in-a-box is a simple but plausible model for the π electrons of a conjugated alkene, like butadiene ($C_4H_6$, shown here). Suppose all the C–C bonds in a polyene are 1.4 Å long and the polyenes are perfectly linear.\n",
        "<img src=\"HW5-1.png\">"
      ]
    },
    {
      "cell_type": "markdown",
      "metadata": {
        "id": "6cXefyQlMRCX"
      },
      "source": [
        "### 1. Plot out the energies of the $n = 1 – 6$ particle-in-a-box states for ethylene (2 carbon chain), butadiene (4 carbon chain), hexatriene (6 carbon chain), octatetraene (8 carbon chain), and decapentaene (10 carbon chain). What happens to the spacing between energy levels as the molecule gets longer?"
      ]
    },
    {
      "cell_type": "markdown",
      "metadata": {
        "id": "Vj-UxLM5MRCX"
      },
      "source": [
        "### 2. Plot out the normalized $n = 2$ particle-in-a-box wavefunction for an electron in butadiene and the normalized $n = 2$ probability distribution. Indicate on the plots the most probable location(s) of the electron, the average location of the electron, and the positions of any nodes."
      ]
    },
    {
      "cell_type": "markdown",
      "metadata": {
        "id": "275cFBg8MRCY"
      },
      "source": [
        "### 3. Butadiene has 4 π electrons, and we will learn later that in its lowest energy state, two of these are in the $n = 1$ and two in the $n = 2$ levels. Compare the wavelength of light (in nm) necessary to promote (“excite”) one electron from either of these levels to the empty $n = 3$ level."
      ]
    },
    {
      "cell_type": "markdown",
      "metadata": {
        "id": "d3xkI6nGMRCY"
      },
      "source": [
        "### 4. The probability of an electron jumping between two energy states by emitting or absorbing light is proportional to the square of the “transition dipole,” given by the integral $\\lvert\\langle\\psi_{initial}\\lvert \\hat{x}\\rvert\\psi_{final}\\rangle\\rvert^2$. Contrast the relative probabilities of an electron jumping from $n = 1$ to $n = 3$ and from $n = 2$ to $n = 3$ levels. Can you propose any general rules about “allowed” and \"forbidden\" jumps?"
      ]
    },
    {
      "cell_type": "markdown",
      "metadata": {
        "id": "oGKpsmWTMRCY"
      },
      "source": [
        "### 5. Consider the reaction of two ethylene molecules to form butadiene:\n",
        "<img src=\"HW5-2.png\">"
      ]
    },
    {
      "cell_type": "markdown",
      "metadata": {
        "id": "0wSXPFjLMRCY"
      },
      "source": [
        "### As a very simple estimate, you could take the energy of each molecule as the sum of the energies of its π electrons, allowing only two electrons per energy level. Again taking each C—C bond as 1.4 Å long and treating the π electrons as particles in a box, calculate the total energy of an ethylene and a butadiene molecule within this model (in kJ/mol), and from these calculate the net reaction energy. Compare your results to the experimental reaction enthalpy. How well did the model do?"
      ]
    },
    {
      "cell_type": "markdown",
      "metadata": {
        "id": "a1FiNAGyMRCZ"
      },
      "source": [
        "### 6. This particle-in-a-box model has many flaws, not the least of which is that the ends of the polyene “box” are not infinitely high potential walls. In a somewhat better model the π electrons would travel in a finite-depth potential well. State two things that would change from the infinite depth to the finite depth model."
      ]
    },
    {
      "cell_type": "markdown",
      "metadata": {
        "collapsed": true,
        "jupyter": {
          "outputs_hidden": true
        },
        "id": "mAnoRvBpMRCZ"
      },
      "source": [
        "## Quantum mechanics of vibrating NO.\n",
        "### The diatomic nitric oxide (NO) is an unusual and important molecule. It has an odd number of electrons, which is a rarity for stable molecule. It acts as a signaling molecule in the body, helping to regulate blood pressure, is a primary pollutant from combustion, and is a key constituent of smog. It exists in several isotopic forms, but the most common, ${}^{14}$N= ${}^{16}$O, has a bond length of 1.15077 Å and vibrational force constant of 1594.8 N/m."
      ]
    },
    {
      "cell_type": "markdown",
      "metadata": {
        "id": "ypYMx2IBMRCZ"
      },
      "source": [
        "### 7. Compute the **reduced mass** $\\mu$ (amu), **harmonic vibrational frequency** (cm$^{-1}$), and **zero point vibrational energy** (kJ/mol) of  ${}^{14}$N= ${}^{16}$O.  Recall $1/\\mu=1/M_\\text{N} + 1/M_\\text{O}$."
      ]
    },
    {
      "cell_type": "markdown",
      "metadata": {
        "id": "2pwPOWnaMRCZ"
      },
      "source": [
        "### 8. Calculate the classical minimum and maximum values of the $^{14}$N=$^{16}$O bond length for a molecule in the ground vibrational state. Hint: Calculate the classical limits on $x$, the value of $x$ at which the kinetic energy is 0 and thus the total energy equals the potential energy."
      ]
    },
    {
      "cell_type": "markdown",
      "metadata": {
        "id": "jer8aorAMRCZ"
      },
      "source": [
        "### 9. The normalized ground vibrational wavefunction of N=O can be written"
      ]
    },
    {
      "cell_type": "markdown",
      "metadata": {
        "id": "JFkWBEpHMRCZ"
      },
      "source": [
        "$$\\Psi_{\\upsilon=0}(x) = \\left ({\\frac{1}{\\alpha\\sqrt{\\pi}}}\\right )^{1/2}e^{-x^2/2\\alpha^2}, \\quad x = R-R_{eq}, \\quad \\alpha = \\left ({\\frac{\\hbar^2}{\\mu k}}\\right )^{1/4}$$"
      ]
    },
    {
      "cell_type": "markdown",
      "metadata": {
        "id": "XmOkq4j5MRCa"
      },
      "source": [
        "### where $x = R-R_{eq}$.  Calculate the probability for an ${}^{14}N={}^{16}O$ molecule to have a bond length outside the classical limits. This is an example of quantum mechanical tunneling."
      ]
    },
    {
      "cell_type": "markdown",
      "metadata": {
        "id": "BnZ2R088MRCa"
      },
      "source": [
        "### 10. The *general selection rule* for whether light can excite a vibration of a molecule is that the dipole moment of the molecule must change as it vibrates.  Based on this criterion, do you expect NO to exhibit an absorption vibrational spectrum?"
      ]
    },
    {
      "cell_type": "markdown",
      "metadata": {
        "id": "rjBO5PZ5MRCa"
      },
      "source": [
        "### 11. The *specific selection rule* for whether light can excite a vibration of a molecule is that $\\Delta v = \\pm 1$.  At ambient temperature, what initial and final vibrational states would contribute most significantly to an NO vibrational spectrum? Justify your answer. (*Hint:* What does the Boltzmann distribution say about the probability to be in each $\\nu$ state?)"
      ]
    },
    {
      "cell_type": "markdown",
      "metadata": {
        "id": "fawPeNuOMRCa"
      },
      "source": [
        "### 12. Based on your answers to questions 10 and 11, what do you expect the vibrational spectrum of an ${}^{14}N={}^{16}O$ molecule to look like? If it has a spectrum, in what region of the spectrum does it absorb (e.g., ultraviolet, x-ray, ...)?"
      ]
    },
    {
      "cell_type": "markdown",
      "metadata": {
        "id": "hb2noLRgMRCa"
      },
      "source": [
        "## Two-dimensional harmonic oscillator\n",
        "### Imagine an H atom embedded in a two-dimensional sheet of MoS$_2$.  The H atom vibrates like a two-dimensional harmonic oscillator with mass 1 amu and force constants $k_x$ and $k_y$ in the two directions."
      ]
    },
    {
      "cell_type": "markdown",
      "metadata": {
        "id": "zDiJfITJMRCa"
      },
      "source": [
        "### 13. Write down the Schr&ouml;dinger equation for the vibrating H atom. Remember to include any boundary conditions on the solutions."
      ]
    },
    {
      "cell_type": "markdown",
      "metadata": {
        "id": "VPbv4QiqMRCa"
      },
      "source": [
        "### 14. The  Schr&ouml;dinger equation is *seperable*, so the wavefunctions are products of one-dimensional wavefunctions and the eigenenergies are sums of corresponding one-dimensional energies.  Derive an expression for the H atom vibrational energy states, assuming $k_x = k_y/4 = k$."
      ]
    },
    {
      "cell_type": "markdown",
      "metadata": {
        "id": "lmT2WaOBMRCa"
      },
      "source": [
        "### 15. A spectroscopic experiment reveals that the spacing between the first and second energy levels is 0.05 eV. What is $k$, in N/m?"
      ]
    },
    {
      "cell_type": "markdown",
      "metadata": {
        "id": "cdySj43rMRCa"
      },
      "source": [
        "### 16. What are the *energies* and *degeneracies* of the four lowest-energy vibrational levels of the H atom?"
      ]
    }
  ],
  "metadata": {
    "anaconda-cloud": {},
    "kernelspec": {
      "display_name": "Python 3 (ipykernel)",
      "language": "python",
      "name": "python3"
    },
    "language_info": {
      "codemirror_mode": {
        "name": "ipython",
        "version": 3
      },
      "file_extension": ".py",
      "mimetype": "text/x-python",
      "name": "python",
      "nbconvert_exporter": "python",
      "pygments_lexer": "ipython3",
      "version": "3.9.6"
    },
    "colab": {
      "provenance": []
    }
  },
  "nbformat": 4,
  "nbformat_minor": 0
}
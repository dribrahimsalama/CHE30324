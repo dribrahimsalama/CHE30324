{
 "cells": [
  {
   "cell_type": "markdown",
   "metadata": {
    "ein.tags": "worksheet-0",
    "slideshow": {
     "slide_type": "-"
    }
   },
   "source": [
    "# Chem 30324, Spring 2020, Homework 6\n",
    "\n",
    "# Due March 4, 2020"
   ]
  },
  {
   "cell_type": "markdown",
   "metadata": {
    "ein.tags": "worksheet-0",
    "slideshow": {
     "slide_type": "-"
    }
   },
   "source": [
    "### The diatomic nitric oxide (NO) is an unusual and important molecule. It has an odd number of electrons, which is a rarity for stable molecule. It acts as a signaling molecule in the body, helping to regulate blood pressure, is a primary pollutant from combustion, and is a key constituent of smog. It exists in several isotopic forms, but the most common, ${}^{14}$N= ${}^{16}$O, has a bond length of 1.15077 Å and harmonic vibrational frequency of 1904 cm$^{-1}$."
   ]
  },
  {
   "cell_type": "markdown",
   "metadata": {},
   "source": [
    "## Spin the NO."
   ]
  },
  {
   "cell_type": "markdown",
   "metadata": {
    "ein.tags": "worksheet-0",
    "slideshow": {
     "slide_type": "-"
    }
   },
   "source": [
    "### 1. Calculate the moment of inertia of ${}^{14}$N=${}^{16}$O, in amu Å$^2$, the rotational energy constant, $B=\\hbar^2/2I$, in kJ mol$^{-1}$, and the rotational spectral constant, $\\tilde{B}=B/hc$,  in cm$^{-1}$."
   ]
  },
  {
   "cell_type": "markdown",
   "metadata": {
    "ein.tags": "worksheet-0",
    "slideshow": {
     "slide_type": "-"
    }
   },
   "source": [
    "### 2. Imagine that the NO molecule is adsorbed flat on a surface upon which it is free to rotate. Plot out the energies of the four lowest-energy rotational quantum states, in units of $\\tilde{B}$, being sure to include appropriate quantum numbers and degeneracies. Also indicate the total rotational angular moment of each state, in units of $\\hbar$."
   ]
  },
  {
   "cell_type": "markdown",
   "metadata": {
    "ein.tags": "worksheet-0",
    "slideshow": {
     "slide_type": "-"
    }
   },
   "source": [
    "### 3. Whether light can induce an NO to jump from some rotational level $m_l$ to some other one $m_l^\\prime$ is determined by whether the transition dipole moment integral $\\langle\\psi_{m_l}\\lvert x\\rvert\\psi_{m_l'}\\rangle$ is zero or non-zero.  Find the *selection rule*  on $\\Delta m_l$ that make  the integral non-zero.  Recall that $x$ can be written $r \\cos\\phi$  in polar coordinates."
   ]
  },
  {
   "cell_type": "markdown",
   "metadata": {},
   "source": [
    "### 4. Use your selection rule to determine the frequencies, in wavenumbers, of the four lowest-energy rotational transitions of an ${}^{14}$N=${}^{16}$O adsorbed flat on a surface."
   ]
  },
  {
   "cell_type": "markdown",
   "metadata": {},
   "source": [
    "### 5. Use your selection rule to determine the change in angular momentum of the ${}^{14}$N=${}^{16}$O in each allowed transition. Compare your result to the angular momentum of a photon, $\\hbar$."
   ]
  },
  {
   "cell_type": "markdown",
   "metadata": {},
   "source": [
    "## NO flips"
   ]
  },
  {
   "cell_type": "markdown",
   "metadata": {
    "ein.tags": "worksheet-0",
    "slideshow": {
     "slide_type": "-"
    }
   },
   "source": [
    "### 5. Now imagine the NO molecule is free to rotate in three-dimensional space. As in Question 2 above, plot out the energies of the four lowest-energy rotational quantum states, in units of $\\tilde{B}$, being sure to include appropriate quantum numbers and degeneracies."
   ]
  },
  {
   "cell_type": "markdown",
   "metadata": {},
   "source": [
    "### 6. Predict the relative populations of the first four rotational quantum states at 298 K.  Do you expect one or all of these states to potentially contribute to the rotational spectrum of NO?"
   ]
  },
  {
   "cell_type": "markdown",
   "metadata": {},
   "source": [
    "## Quantum mechanics of an H atom: \n",
    "### Consider an excited hydrogen atom with a 2s$^1$ electron configuration. The 2s radial wavefunction is given by $$R_{2,0} = \\frac{1}{\\sqrt{2a_0^3}}(1-\\rho/2)e^{-\\rho/2}, \\rho = r/a_0$$ where $a_0$ = bohr radius. (*Hint:* It’s easiest to solve the following using $a_0$ as the unit of length.)"
   ]
  },
  {
   "cell_type": "markdown",
   "metadata": {},
   "source": [
    "### 7. Provide a complete set of possible quantum numbers for an electron with the 2s wavefunction."
   ]
  },
  {
   "cell_type": "markdown",
   "metadata": {},
   "source": [
    "### 8. Provide a hand sketch of the 3-D shape of a 2s wavefunction (“orbital”). Be sure to indicate the *sign* of the wavefunction in each region and the location(s) of nodes. How many radial and how many angular nodes does a 2s wavefunction have?"
   ]
  },
  {
   "cell_type": "markdown",
   "metadata": {},
   "source": [
    "### 9. Plot the radial probability function $P_{20}(r) = r^2\\lvert R_{2,0}(r)\\rvert^2$. Be sure to label both axes appropriately. (*Hint:* Stick with $a_0$ as the length unit.)"
   ]
  },
  {
   "cell_type": "markdown",
   "metadata": {},
   "source": [
    "### 10. Determine and indicate on your plot $\\langle r\\rangle$, the expectation value of the distance of the electron from the nucleus."
   ]
  },
  {
   "cell_type": "markdown",
   "metadata": {},
   "source": [
    "### 11. Determine and indicate on your plot  $r_{MP}$, the most probable distance of the electron from the nucleus."
   ]
  },
  {
   "cell_type": "markdown",
   "metadata": {},
   "source": [
    "### 12. Determine and indicate on your plot the maximum classical distance of the electron from the nucleus in this orbital."
   ]
  },
  {
   "cell_type": "markdown",
   "metadata": {},
   "source": [
    "### 13. What is the probability of finding the electron beyond the classical distance? (Evaluate the necessary integral numerically.)"
   ]
  },
  {
   "cell_type": "markdown",
   "metadata": {},
   "source": [
    "### 14. Can a 2s electron undergo an allowed transition to a lower energy electronic state? If so, what frequency (in cm$^{-1}$) of light would be emitted?"
   ]
  }
 ],
 "metadata": {
  "anaconda-cloud": null,
  "kernelspec": {
   "display_name": "Python 3",
   "language": "python",
   "name": "python3"
  },
  "language_info": {
   "codemirror_mode": {
    "name": "ipython",
    "version": 3
   },
   "file_extension": ".py",
   "mimetype": "text/x-python",
   "name": "python",
   "nbconvert_exporter": "python",
   "pygments_lexer": "ipython3",
   "version": "3.7.4"
  },
  "name": "HW6.ipynb"
 },
 "nbformat": 4,
 "nbformat_minor": 1
}

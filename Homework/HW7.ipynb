{
 "cells": [
  {
   "cell_type": "markdown",
   "metadata": {},
   "source": [
    "# Chem 30324, Spring 2024, Homework 7\n",
    "\n",
    "# Due March 25, 2024"
   ]
  },
  {
   "cell_type": "markdown",
   "metadata": {},
   "source": [
    "## Many-electrons means many troubles\n",
    "### Helium (He) is only one electron larger than hydrogen, but that one more electron makes a big difference in difficulty in setting up and solving the Schrödinger equation."
   ]
  },
  {
   "cell_type": "markdown",
   "metadata": {
    "tags": []
   },
   "source": [
    "### 1. Write down in as much detail as you can the exact, the all electron Schrödinger equation for the electrons in a He atom."
   ]
  },
  {
   "cell_type": "markdown",
   "metadata": {
    "jp-MarkdownHeadingCollapsed": true,
    "tags": []
   },
   "source": [
    "### 2. This equation is conventionally solved within the \"independent electron\" approximation, by writing an effective one-electron Schrödinger equation with approximate potentials (shown below in atomic units).  Briefly, what does it mean to solve this equation \"self-consistently\"?\n",
    "\n",
    "$$\\left\\{-\\frac{1}{2}\\nabla^2 - \\frac{2}{r} + \\hat v_\\mathrm{Coul}[\\psi_i] + \\hat\n",
    "            v_\\mathrm{ex}[\\psi_i]+\\hat v_\\mathrm{corr}[\\psi_i] \\right\\}\\psi=\\epsilon\\psi$$\n",
    "            \n"
   ]
  },
  {
   "cell_type": "markdown",
   "metadata": {},
   "source": [
    "### 3. How many solutions are needed to describe the electrons in a He atom?  Provide a possible set of quantum numbers ($n, l, m_l , m _s$)  for each electron."
   ]
  },
  {
   "cell_type": "markdown",
   "metadata": {},
   "source": [
    "### 4. The Schrödinger equation has five terms, or operators, on the left.  Identify the physical meaning of each term and the *sign* of the expectation value when it is applied to one of the solutions."
   ]
  },
  {
   "cell_type": "markdown",
   "metadata": {},
   "source": [
    "### Sophisticated computer programs that solve the many-electron Schrödinger equation are now widely available and powerful tool for predicting the properties of atoms, molecules, solids, and interfaces. *Density functional theory* (DFT) is the most common set of approximations for the electron-electron interactions used today. In this problem you’ll do a DFT calculation using the *Orca* program (<https://www.its.hku.hk/services/research/hpc/software/orca>)."
   ]
  },
  {
   "cell_type": "markdown",
   "metadata": {},
   "source": [
    "### Now, let’s set up your calculation (you may do this with a partner or two if you choose):\n",
    "1. Log into the Webmo server https://www.webmo.net/demoserver/cgi-bin/webmo/login.cgi using \"guest\" as your username and password.\n",
    "2. Select New Job-Creat New Job.\n",
    "3. Use the available tools to draw an atom on the screen.\n",
    "4. Use the right arrow at the bottom to proceed to the Computational Engines.\n",
    "5. Choose Orca\n",
    "6. Select “Molecular Orbitals” for the Calculation type, “PBE” for theory, “def2-SVP” for the basis set, “0” for the charge, an appropriate value for the \"Multiplicity\", and check “Unrestricted.” \n",
    "7. Select the right arrow to run the calculation.\n",
    "8. From the job manager window choose the completed calculation to view the results.\n",
    "9. For fun, click on the Magnifying Glass icons to see the molecular orbitals in 3-D. You may have to play around with the Display Settings and Preferences to get good views."
   ]
  },
  {
   "cell_type": "markdown",
   "metadata": {},
   "source": [
    "### 5. Perform calculations across the first row of the periodic table (B, C, N, O, F, Ne).  Make a table of energies of the occupied orbitals and identify them by their shell ( $n = 1, 2, \\ldots$) and subshell (s, p, d, ...). "
   ]
  },
  {
   "cell_type": "markdown",
   "metadata": {},
   "source": [
    "### 6. Contrast the energies of the 1s electrons across the series.  Determine the wavelength of light necessary to remove each 1s electron. What range of the spectrum is this light in?"
   ]
  },
  {
   "cell_type": "markdown",
   "metadata": {},
   "source": [
    "### 7. Why, qualitatively, do the energies vary as they do?"
   ]
  },
  {
   "cell_type": "markdown",
   "metadata": {},
   "source": [
    "### 8. Compare the energies of the highest-energy (valence) electrons across the series. Determine the wavelength of light necessary to remove each valence electron. What range of the spectrum is this light in?"
   ]
  },
  {
   "cell_type": "markdown",
   "metadata": {},
   "source": [
    "### 9. Why, qualitatively, do the energies vary as they do?"
   ]
  }
 ],
 "metadata": {
  "anaconda-cloud": {},
  "kernelspec": {
   "display_name": "Python 3 (ipykernel)",
   "language": "python",
   "name": "python3"
  },
  "language_info": {
   "codemirror_mode": {
    "name": "ipython",
    "version": 3
   },
   "file_extension": ".py",
   "mimetype": "text/x-python",
   "name": "python",
   "nbconvert_exporter": "python",
   "pygments_lexer": "ipython3",
   "version": "3.11.8"
  }
 },
 "nbformat": 4,
 "nbformat_minor": 4
}

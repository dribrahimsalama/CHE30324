{
 "cells": [
  {
   "cell_type": "markdown",
   "metadata": {
    "colab_type": "text",
    "id": "K1nU4iJ1x-fa"
   },
   "source": [
    "# Chem 30324, Spring 2020, Homework 9\n"
   ]
  },
  {
   "cell_type": "markdown",
   "metadata": {
    "colab_type": "text",
    "id": "IfKlbKuzx-fc"
   },
   "source": [
    "# Due April 10, 2020\n"
   ]
  },
  {
   "cell_type": "markdown",
   "metadata": {
    "colab_type": "text",
    "id": "_n6NS06yx-fe"
   },
   "source": [
    "## The two-state system.\n",
    "### Consider a closed system containing $N$ objects, each of which can be in one of two energy states, of energy either 0 or $\\varepsilon$. The total internal energy $U$ of the box is the sum of the energies of the individual objects."
   ]
  },
  {
   "cell_type": "markdown",
   "metadata": {
    "colab_type": "text",
    "id": "ZaEC3jfAx-ff"
   },
   "source": [
    "![Boltzmann](https://github.com/wmfschneider/CHE30324/blob/master/Homework/imgs/Boltzmann.png?raw=1)"
   ]
  },
  {
   "cell_type": "markdown",
   "metadata": {
    "colab_type": "text",
    "id": "5RQZ72Rpx-fh"
   },
   "source": [
    "### 1. Write down all the possible microstates for a box in which $N = 4$ and the internal energy $U = 2\\varepsilon$."
   ]
  },
  {
   "cell_type": "markdown",
   "metadata": {
    "colab_type": "text",
    "id": "yW3gslpyyTP6"
   },
   "source": [
    "$$N = 4$$\n",
    "$$q = 2$$\n",
    "To find the number of microstates, \n",
    "$$\\Omega = \\frac{N!}{(q!)(N-q)!} = 6$$\n",
    "\n",
    "Possible Microstates:\n",
    "$$(00\\varepsilon\\varepsilon)\\qquad(0\\varepsilon 0\\varepsilon)\\qquad(0\\varepsilon \\varepsilon 0)\\qquad(\\varepsilon 00\\varepsilon)\\qquad(\\varepsilon 0\\varepsilon 0)\\qquad(\\varepsilon \\varepsilon 00)$$"
   ]
  },
  {
   "cell_type": "markdown",
   "metadata": {
    "colab_type": "text",
    "id": "9_0luRKUx-fi"
   },
   "source": [
    "### 2. What does the postulate of *equal a priori probabilities* say about the relative likelihood of occurance of any one of these microstates?"
   ]
  },
  {
   "cell_type": "markdown",
   "metadata": {
    "colab_type": "text",
    "id": "KL8LUv6Y1SE8"
   },
   "source": [
    "The postulate of equal a priori probabilities states that each microstate has the same probability of occuring."
   ]
  },
  {
   "cell_type": "markdown",
   "metadata": {
    "colab_type": "text",
    "id": "eVC6ZGgsx-fk"
   },
   "source": [
    "### 3. What is the entropy of the box? (Thank you, Ludwig Boltzmann.)"
   ]
  },
  {
   "cell_type": "code",
   "execution_count": 5,
   "metadata": {
    "colab": {
     "base_uri": "https://localhost:8080/",
     "height": 34
    },
    "colab_type": "code",
    "id": "dFtlZ51J1n4T",
    "outputId": "d4c4e2ce-c10d-40e1-e5af-839507563170"
   },
   "outputs": [
    {
     "name": "stdout",
     "output_type": "stream",
     "text": [
      "The entropy of the box is kln6 = 2.474e-23 J/K.\n"
     ]
    }
   ],
   "source": [
    "import numpy as np\n",
    "k = 1.380649e-23 #J/K\n",
    "omega = 6 #number of possible microstates\n",
    "S = k*np.log(omega)\n",
    "print(\"The entropy of the box is kln6 = {0:8.3e} J/K.\".format(S))"
   ]
  },
  {
   "cell_type": "markdown",
   "metadata": {
    "colab_type": "text",
    "id": "_fTy02Zfx-fl"
   },
   "source": [
    "### 4. Suppose two identical such boxes are brought into thermal contact and allowed to come to equilibrium. Calculate the change in internal energy $\\Delta U$ and in entropy $\\Delta S$ associated with this process."
   ]
  },
  {
   "cell_type": "code",
   "execution_count": 11,
   "metadata": {
    "colab": {
     "base_uri": "https://localhost:8080/",
     "height": 51
    },
    "colab_type": "code",
    "id": "kyWj8VV-3Q_r",
    "outputId": "ac146e0d-d8b6-4a53-fc1a-de3c1cfe738a"
   },
   "outputs": [
    {
     "name": "stdout",
     "output_type": "stream",
     "text": [
      "The change in entropy is 9.180988685797155e-24 J/K\n",
      "The change in energy is 0.0 epsilon\n",
      "The energy of a closed system is constant (first law)\n",
      "The entropy change in any spontaneous process in a closed system is > 0\n"
     ]
    }
   ],
   "source": [
    "from math import factorial\n",
    "import numpy as np\n",
    "\n",
    "k = 1.380649e-23 #J/K\n",
    "epsilon = 1. # some amount of energy\n",
    "\n",
    "def Omega(N,q):\n",
    "    return factorial(N)/(factorial(q)*factorial(N-q))\n",
    "\n",
    "def S(N,q):\n",
    "    return k*np.log(Omega(N,q))\n",
    "\n",
    "def U(N,q):\n",
    "    return q*epsilon\n",
    "\n",
    "#2 identical Boxes, separated\n",
    "N = 4; q = 2\n",
    "\n",
    "Sseparated = S(N,q)\n",
    "Useparated = U(N,q)\n",
    "\n",
    "#2 Boxes, Combined\n",
    "N2 = N*2\n",
    "q2 = q*2\n",
    "\n",
    "Scombined = S(N2,q2)\n",
    "Ucombined = U(N2,q2)\n",
    "\n",
    "deltaS = Scombined - 2*Sseparated\n",
    "deltaU = Ucombined - 2*Useparated\n",
    "print('The change in entropy is',deltaS,\"J/K\")\n",
    "print('The change in energy is',deltaU,\"epsilon\")\n",
    "print('The energy of a closed system is constant (first law)')\n",
    "print('The entropy change in any spontaneous process in a closed system is > 0')\n",
    "\n"
   ]
  },
  {
   "cell_type": "markdown",
   "metadata": {
    "colab_type": "text",
    "id": "Vr1rypWux-fn"
   },
   "source": [
    "## The canonical ensemble.\n",
    "### The energy spectrum of some molecule is described by the diagram below.  A large number $N$ of these distinguishable molecules is in thermal equilibrium with a much larger reservoir of temperature $T$."
   ]
  },
  {
   "cell_type": "markdown",
   "metadata": {
    "colab_type": "text",
    "id": "dXAEz5I2x-fp"
   },
   "source": [
    "![Energy States](https://github.com/wmfschneider/CHE30324/blob/master/Homework/imgs/EnergyStates.png?raw=1)"
   ]
  },
  {
   "cell_type": "markdown",
   "metadata": {
    "colab_type": "text",
    "id": "okqDVK5Ux-fq"
   },
   "source": [
    "### 5. Write the partition function $q$ for one of the molecules in the system (a) in terms of $T$ and $\\varepsilon$, (b) in terms of $\\beta = 1/k_B T$ and $\\varepsilon$, and (c) in terms of a characteristic temperature $\\theta = \\varepsilon/k_B$."
   ]
  },
  {
   "cell_type": "markdown",
   "metadata": {
    "colab_type": "text",
    "id": "GWbj98ys7dC6"
   },
   "source": [
    "$a) q = e^{\\frac{0}{k_bT}}+2e^{\\frac{-\\epsilon}{k_bT}}+3e^{\\frac{-2\\epsilon}{k_bT}} = 1+2e^{\\frac{-\\epsilon}{k_bT}}+3e^{\\frac{-2\\epsilon}{k_bT}}$\n",
    "\n",
    "$b) q = e^{0\\beta}+2e^{-\\epsilon\\beta}+3e^{-2\\epsilon\\beta} = 1 +2e^{-\\epsilon\\beta}+3e^{-2\\epsilon\\beta}$\n",
    "\n",
    "$c) q = e^{\\frac{0\\theta}{T}}+2e^{\\frac{-\\theta}{T}}+3e^{\\frac{-2\\theta}{T}} = 1+2e^{\\frac{-\\theta}{T}}+3e^{\\frac{-2\\theta}{T}}$"
   ]
  },
  {
   "cell_type": "markdown",
   "metadata": {
    "colab_type": "text",
    "id": "e_pJxsTYx-fs"
   },
   "source": [
    "### 6. Plot the relative fractions of molecules of energy 0, $\\varepsilon$, and $2\\varepsilon$  vs. temperature.  Assume $\\theta = 300$ K. Be sure to indicate the probabilities in the limits of $T\\rightarrow 0$ and $T \\rightarrow \\infty$."
   ]
  },
  {
   "cell_type": "code",
   "execution_count": 2,
   "metadata": {
    "colab": {
     "base_uri": "https://localhost:8080/",
     "height": 329
    },
    "colab_type": "code",
    "id": "o9MubiEFr35G",
    "outputId": "9c52bcf6-2e05-4eca-e30c-48a1429ce9f5"
   },
   "outputs": [
    {
     "data": {
      "image/png": "[encoded data removed]",
      "text/plain": [
       "<Figure size 432x288 with 1 Axes>"
      ]
     },
     "metadata": {
      "tags": []
     },
     "output_type": "display_data"
    },
    {
     "name": "stdout",
     "output_type": "stream",
     "text": [
      "When T --> 0, there is a 100% probability of E = 0. As T --> oo, E = 0 has a 1/6 probability\n",
      "E = 1E has a 1/3 probability and E = 2E has a 1/2 probability.\n"
     ]
    }
   ],
   "source": [
    "import numpy as np\n",
    "import matplotlib.pyplot as plt\n",
    "\n",
    "theta = 300 #K\n",
    "T = np.linspace (1,3000,1000)\n",
    "Ptot = 1 + 2*np.exp(-theta/T) + 3*np.exp(-2*theta/T)\n",
    "P0 = 1*np.exp(-0*theta/T)/ Ptot\n",
    "P1 = 2*np.exp(-theta/T) / Ptot\n",
    "P2 = 3*np.exp(-2*theta/T) / Ptot\n",
    "\n",
    "plt.plot(T,P0, label = 'E = 0')\n",
    "plt.plot(T,P1, label = 'E = 1E')\n",
    "plt.plot(T,P2, label = 'E = 2E')\n",
    "plt.legend()\n",
    "plt.xlabel('Temperature (K)')\n",
    "plt.ylabel('Probability')\n",
    "plt.title('Relative probabilites at theta = 300 K')\n",
    "plt.ylim(0,1)\n",
    "plt.xlim(0,3000)\n",
    "\n",
    "plt.show()\n",
    "print('When T --> 0, there is a 100% probability of E = 0. As T --> oo, E = 0 has a 1/6 probability')\n",
    "print('E = 1E has a 1/3 probability and E = 2E has a 1/2 probability.')\n"
   ]
  },
  {
   "cell_type": "markdown",
   "metadata": {
    "colab_type": "text",
    "id": "WgcYA_cTx-ft"
   },
   "source": [
    "### 7. Derive an expression for the internal energy $U$ per molecule by summing over the possible microstates weighted by their probabilities. Plot the average energy vs. temperature, assuming  $\\theta =300$ K."
   ]
  },
  {
   "cell_type": "markdown",
   "metadata": {
    "colab_type": "text",
    "id": "TLS61_vAzT61"
   },
   "source": [
    "$U = 0P(0) + \\varepsilon P(\\varepsilon) + 2\\varepsilon P(2\\varepsilon) = \\varepsilon\\frac{2e^{-\\beta\\varepsilon}}{q} + 2\\varepsilon\\frac{3e^{-2\\beta\\varepsilon}}{q} = \\frac{2\\varepsilon e^{-\\beta\\varepsilon} + 6\\varepsilon e^{-2\\beta\\varepsilon}}{q}$"
   ]
  },
  {
   "cell_type": "code",
   "execution_count": 0,
   "metadata": {
    "colab": {
     "base_uri": "https://localhost:8080/",
     "height": 295
    },
    "colab_type": "code",
    "id": "5PHMqMGG2_Gz",
    "outputId": "22765f95-38e6-4cdb-aab1-ca1a8749f30a"
   },
   "outputs": [
    {
     "data": {
      "image/png": "[encoded data removed]",
      "text/plain": [
       "<Figure size 432x288 with 1 Axes>"
      ]
     },
     "metadata": {
      "tags": []
     },
     "output_type": "display_data"
    }
   ],
   "source": [
    "epsilon = theta*k # as we needed epsilon in expression\n",
    "U = (2.*epsilon * np.exp(-theta/T) + 6.*epsilon * np.exp(-2.*theta/T))/ Ptot # average energy J per particle\n",
    "plt.plot(T,U)\n",
    "plt.xlabel('Temperature (K)')\n",
    "plt.ylabel('Average energy (J/particle)')\n",
    "plt.title('Average energy')\n",
    "plt.show()\n"
   ]
  },
  {
   "cell_type": "markdown",
   "metadata": {
    "colab_type": "text",
    "id": "Inmmuyckx-fv"
   },
   "source": [
    "### 8. Derive an expression for the internal energy $U$ per molecule by taking the appropriate derivative of the partition function from problem 5 (*Hint:* it is easier to work with the expressions in term of $\\beta$ than in $T$.) Does your result agree with that from Question 7?"
   ]
  },
  {
   "cell_type": "markdown",
   "metadata": {
    "colab_type": "text",
    "id": "ZZ8ncoZy7AMI"
   },
   "source": [
    "$\\left<U\\right> = -\\left(\\frac{dlnq}{d\\beta}\\right) = -\\frac{1}{q}\\left(\\frac{dq}{d\\beta}\\right) = -\\frac{1}{q}\\frac{d(1 + 2e^{-\\beta\\varepsilon} + 3e^{-2\\beta\\varepsilon})}{d\\beta} = \\frac{2\\varepsilon e^{-\\beta\\varepsilon} + 6\\varepsilon e^{-2\\beta\\varepsilon}}{q}$ \n",
    "\n",
    "Same expression as problem 7."
   ]
  },
  {
   "cell_type": "markdown",
   "metadata": {
    "colab_type": "text",
    "id": "wbu5H19Xx-fw"
   },
   "source": [
    "### 9. Derive an expression for the Helmholtz energy $A$ per molecule from the partition function. Plot $A$ vs. temperature, assuming $\\theta\n",
    "= 300$ K."
   ]
  },
  {
   "cell_type": "markdown",
   "metadata": {
    "colab_type": "text",
    "id": "TxLO0A0E7KsD"
   },
   "source": [
    "$A = U - TS = U - T(\\frac{U}{T}+k_B\\ln q) = -k_BTlnq = -k_BT\\ln(1 + 2e^{-\\beta\\varepsilon} + 3e^{-2\\beta\\varepsilon}) = -k_BT\\ln(1 + 2e^{-300/T} + 3e^{-600/T})$"
   ]
  },
  {
   "cell_type": "code",
   "execution_count": 0,
   "metadata": {
    "colab": {
     "base_uri": "https://localhost:8080/",
     "height": 295
    },
    "colab_type": "code",
    "id": "aSH9EvG_7Nvc",
    "outputId": "12c75a36-5ad0-451d-a761-d51ebdd072de"
   },
   "outputs": [
    {
     "data": {
      "image/png": "[encoded data removed]",
      "text/plain": [
       "<Figure size 432x288 with 1 Axes>"
      ]
     },
     "metadata": {
      "tags": []
     },
     "output_type": "display_data"
    }
   ],
   "source": [
    "Ptot = 1. + 2.*np.exp(-theta/T) + 3.*np.exp(-2.*theta/T) # partition function\n",
    "A = -k*T*np.log(Ptot) # J/particle\n",
    "plt.plot(T,A)\n",
    "plt.xlabel('Temperature (K)')\n",
    "plt.ylabel('Helmholtz free energy (J/particle)')\n",
    "plt.title('Helmholtz free energy')\n",
    "plt.show()"
   ]
  },
  {
   "cell_type": "markdown",
   "metadata": {
    "colab_type": "text",
    "id": "QYMyQORvx-fz"
   },
   "source": [
    "### 10. Derive an expression for the entropy $S$ per molecules and plot vs. temperature, again assuming $\\theta = 300$ K."
   ]
  },
  {
   "cell_type": "markdown",
   "metadata": {
    "colab_type": "text",
    "id": "K32kxVmh7ZLw"
   },
   "source": [
    "$S = \\frac{U-A}{T}= \\frac{U}{T} + k_B\\ln q = \\frac{2\\varepsilon e^{-\\beta\\varepsilon} + 6\\varepsilon e^{-2\\beta\\varepsilon}}{(1 + 2e^{-\\beta\\varepsilon} + 3e^{-2\\beta\\varepsilon})T} + k_B\\ln(1 + 2e^{-\\beta\\varepsilon} + 3e^{-2\\beta\\varepsilon})$"
   ]
  },
  {
   "cell_type": "code",
   "execution_count": 0,
   "metadata": {
    "colab": {
     "base_uri": "https://localhost:8080/",
     "height": 295
    },
    "colab_type": "code",
    "id": "aDHcGo1X7b_i",
    "outputId": "6fc2ebb4-1e2e-4a31-8853-327c6baad2fe"
   },
   "outputs": [
    {
     "data": {
      "image/png": "[encoded data removed]",
      "text/plain": [
       "<Figure size 432x288 with 1 Axes>"
      ]
     },
     "metadata": {
      "tags": []
     },
     "output_type": "display_data"
    }
   ],
   "source": [
    "S = (U-A)/T\n",
    "\n",
    "plt.plot(T,S)\n",
    "plt.xlabel('Temperature (K)')\n",
    "plt.ylabel('Entropy (J/K)')\n",
    "plt.title('Three-state system entropy')\n",
    "plt.show()"
   ]
  },
  {
   "cell_type": "markdown",
   "metadata": {
    "colab_type": "text",
    "id": "38CO030Lx-f1"
   },
   "source": [
    "### 11. In class we took the First Law as a postulate and demonstrated the Second Law. Look at your results for Problems 6 and 10. Can you use them to rationalize the Third Law? Explain your answer."
   ]
  },
  {
   "cell_type": "markdown",
   "metadata": {
    "colab_type": "text",
    "id": "hZvGKNyi7k6-"
   },
   "source": [
    "Yes. The entropy at absolute zero is equal to zero. From problem 6, we can get when T = 0 K, the molecule has the probability of 1 to be in the 0 energy state. $S(T = 0 K) = k_Bln(1) = 0$. From number 10, we can also get $S \\rightarrow 0$ when $T\\rightarrow 0$."
   ]
  },
  {
   "cell_type": "code",
   "execution_count": 0,
   "metadata": {
    "colab": {},
    "colab_type": "code",
    "id": "w5Ac5b7i7lid"
   },
   "outputs": [],
   "source": []
  }
 ],
 "metadata": {
  "anaconda-cloud": {},
  "colab": {
   "name": "PChem HW 9 Solutions",
   "provenance": []
  },
  "kernelspec": {
   "display_name": "Python 3",
   "language": "python",
   "name": "python3"
  },
  "language_info": {
   "codemirror_mode": {
    "name": "ipython",
    "version": 3
   },
   "file_extension": ".py",
   "mimetype": "text/x-python",
   "name": "python",
   "nbconvert_exporter": "python",
   "pygments_lexer": "ipython3",
   "version": "3.7.4"
  }
 },
 "nbformat": 4,
 "nbformat_minor": 1
}

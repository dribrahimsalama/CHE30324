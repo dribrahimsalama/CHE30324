{
 "cells": [
  {
   "cell_type": "markdown",
   "metadata": {},
   "source": [
    "# Chem 30324, Spring 2020, Homework 9\n"
   ]
  },
  {
   "cell_type": "markdown",
   "metadata": {},
   "source": [
    "# Due April 10, 2020\n"
   ]
  },
  {
   "cell_type": "markdown",
   "metadata": {},
   "source": [
    "## The two-state system.\n",
    "### Consider a closed system containing $N$ objects, each of which can be in one of two energy states, of energy either 0 or $\\varepsilon$. The total internal energy $U$ of the box is the sum of the energies of the individual objects."
   ]
  },
  {
   "cell_type": "markdown",
   "metadata": {},
   "source": [
    "![Boltzmann](imgs/Boltzmann.png)"
   ]
  },
  {
   "cell_type": "markdown",
   "metadata": {},
   "source": [
    "### 1. Write down all the possible microstates for a box in which $N = 4$ and the internal energy $U = 2\\varepsilon$."
   ]
  },
  {
   "cell_type": "markdown",
   "metadata": {},
   "source": [
    "### 2. What does the postulate of *equal a priori probabilities* say about the relative likelihood of occurance of any one of these microstates?"
   ]
  },
  {
   "cell_type": "markdown",
   "metadata": {},
   "source": [
    "### 3. What is the entropy of the box? (Thank you, Ludwig Boltzmann.)"
   ]
  },
  {
   "cell_type": "markdown",
   "metadata": {},
   "source": [
    "### 4. Suppose two identical such boxes are brought into thermal contact and allowed to come to equilibrium. Calculate the change in internal energy $\\Delta U$ and in entropy $\\Delta S$ associated with this process."
   ]
  },
  {
   "cell_type": "markdown",
   "metadata": {},
   "source": [
    "## The canonical ensemble.\n",
    "### The energy spectrum of some molecule is described by the diagram below.  A large number $N$ of these distinguishable molecules is in thermal equilibrium with a much larger reservoir of temperature $T$."
   ]
  },
  {
   "cell_type": "markdown",
   "metadata": {},
   "source": [
    "![Energy States](imgs/EnergyStates.png)"
   ]
  },
  {
   "cell_type": "markdown",
   "metadata": {},
   "source": [
    "### 5. Write the partition function $q$ for one of the molecules in the system (a) in terms of $T$ and $\\varepsilon$, (b) in terms of $\\beta = 1/k_B T$ and $\\varepsilon$, and (c) in terms of a characteristic temperature $\\theta = \\varepsilon/k_B$."
   ]
  },
  {
   "cell_type": "markdown",
   "metadata": {},
   "source": [
    "### 6. Plot the relative fractions of molecules of energy 0, $\\varepsilon$, and $2\\varepsilon$  vs. temperature.  Assume $\\theta = 300$ K. Be sure to indicate the probabilities in the limits of $T\\rightarrow 0$ and $T \\rightarrow \\infty$."
   ]
  },
  {
   "cell_type": "markdown",
   "metadata": {},
   "source": [
    "### 7. Derive an expression for the internal energy $U$ per molecule by summing over the possible microstates weighted by their probabilities. Plot the average energy vs. temperature, assuming  $\\theta =300$ K."
   ]
  },
  {
   "cell_type": "markdown",
   "metadata": {},
   "source": [
    "### 8. Derive an expression for the internal energy $U$ per molecule by taking the appropriate derivative of the partition function from problem 5 (*Hint:* it is easier to work with the expressions in term of $\\beta$ than in $T$.) Does your result agree with that from Question 7?"
   ]
  },
  {
   "cell_type": "markdown",
   "metadata": {},
   "source": [
    "### 9. Derive an expression for the Helmholtz energy $A$ per molecule from the partition function. Plot $A$ vs. temperature, assuming $\\theta\n",
    "= 300$ K."
   ]
  },
  {
   "cell_type": "markdown",
   "metadata": {},
   "source": [
    "### 10. Derive an expression for the entropy $S$ per molecules and plot vs. temperature, again assuming $\\theta = 300$ K."
   ]
  },
  {
   "cell_type": "markdown",
   "metadata": {},
   "source": [
    "### 11. In class we took the First Law as a postulate and demonstrated the Second Law. Look at your results for Problems 6 and 10. Can you use them to rationalize the Third Law? Explain your answer."
   ]
  }
 ],
 "metadata": {
  "anaconda-cloud": {},
  "kernelspec": {
   "display_name": "Python 3",
   "language": "python",
   "name": "python3"
  },
  "language_info": {
   "codemirror_mode": {
    "name": "ipython",
    "version": 3
   },
   "file_extension": ".py",
   "mimetype": "text/x-python",
   "name": "python",
   "nbconvert_exporter": "python",
   "pygments_lexer": "ipython3",
   "version": "3.7.4"
  }
 },
 "nbformat": 4,
 "nbformat_minor": 1
}

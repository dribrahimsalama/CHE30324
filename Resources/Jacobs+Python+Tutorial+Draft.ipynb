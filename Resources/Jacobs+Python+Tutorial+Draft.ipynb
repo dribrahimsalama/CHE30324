{
 "cells": [
  {
   "cell_type": "markdown",
   "metadata": {
    "collapsed": true
   },
   "source": [
    "# Introduction to Python\n",
    "\n",
    "### A Tutorial by Jacob Gerace\n",
    "\n",
    "### Why Python?\n",
    "\n",
    "1. Clean syntax\n",
    "2. The same code can run on all Operating Systems\n",
    "3. **Extensive first and third party libraries (of particular note for our purposes is NumPy)**\n",
    "\n",
    "### Markdown Sidenote\n",
    " * This text is written in a Markdown block. Markdown is straightforward way to format writeups in Jupyter, but I won't cover it here for the sake of brevity. \n",
    " * See if you can use Markdown in your next homework, here's a link that explains the formatting: https://daringfireball.net/projects/markdown/syntax . \n",
    " * You can also look at existing Markdown examples (i.e. this worksheet) and emulate the style. Double click a Markdown box in Jupyter to show the code.\n",
    " \n",
    "### LaTeX Sidenote\n",
    "* LaTeX (pronounced \"La-tech\") is a language itself used widely to write documents with symbolic math\n",
    "* When you add a mathematical formula to these markdown blocks, the math is in LaTeX.\n",
    "* Ex from class: $$V \\frac{dC}{dt} = u(t) - Q C(t)$$ \n",
    "* A good resource: https://en.wikibooks.org/wiki/LaTeX/Mathematics\n",
    " \n",
    " \n",
    "### What I hope you'll get out of this tutorial:\n",
    "* The feeling that you'll \"know where to start\" when you see python code in lecture, or when you need to write python for an assignment.\n",
    "* (You won't be a python expert after one hour)\n",
    "* What lists, loops, functions, numpy, conditionals\n",
    "* NEEDS WORK"
   ]
  },
  {
   "cell_type": "markdown",
   "metadata": {
    "collapsed": true
   },
   "source": [
    "## Python Basics\n",
    "### Variable Basics"
   ]
  },
  {
   "cell_type": "code",
   "execution_count": null,
   "metadata": {
    "collapsed": false
   },
   "outputs": [],
   "source": [
    "#A variable stores a piece of data and gives it a name\n",
    "answer = 42\n",
    "\n",
    "#answer contained an integer because we gave it an integer!\n",
    "\n",
    "is_it_tuesday = True\n",
    "is_it_wednesday = False\n",
    "\n",
    "#these both are 'booleans' or true/false values\n",
    "\n",
    "pi_approx = 3.1415\n",
    "\n",
    "#This will be a floating point number, or a number containing digits after the decimal point\n",
    "\n",
    "my_name = \"Jacob\"\n",
    "#This is a string datatype, the name coming from a string of characters\n",
    "\n",
    "#Data doesn't have to be a singular unit\n",
    "\n",
    "#p.s., we can print all of these with a print command. For Example:\n",
    "print(answer)\n",
    "print(pi_approx)"
   ]
  },
  {
   "cell_type": "markdown",
   "metadata": {},
   "source": [
    "### More Complicated Data Types\n"
   ]
  },
  {
   "cell_type": "code",
   "execution_count": null,
   "metadata": {
    "collapsed": true
   },
   "outputs": [],
   "source": [
    "\n",
    "#What if we want to store many integers? We need a list!\n",
    "prices = [10, 20, 30, 40, 50]\n",
    "\n",
    "#This is a way to define a list in place. We can also make an empty list and add to it.\n",
    "colors = []\n",
    "\n",
    "colors.append(\"Green\")\n",
    "colors.append(\"Blue\")\n",
    "colors.append(\"Red\")\n",
    "\n",
    "print(colors)\n",
    "\n",
    "#We can also add unlike data to a list\n",
    "prices.append(\"Sixty\")\n",
    "\n",
    "#As an exercise, look up lists in python and find out how to add in the middle of a list!\n",
    "\n",
    "print(prices)\n",
    "#We can access a specific element of a list too:\n",
    "\n",
    "print(colors[0])\n",
    "print(colors[2])\n",
    "\n",
    "#Notice here how the first element of the list is index 0, not 1! \n",
    "#Languages like MATLAB are 1 indexed, be careful!\n",
    "\n",
    "#In addition to lists, there are tuples\n",
    "#Tuples behave very similarly to lists except that you can't change them after you make them\n",
    "\n",
    "#An empty Tuple isn't very useful:\n",
    "empty_tuple = ()\n",
    "\n",
    "#Nor is a tuple with just one value:\n",
    "one_tuple = (\"first\",)\n",
    "\n",
    "#But tuples with many values are useful:\n",
    "rosa_parks_info = (\"Rosa\", \"Parks\", 1913, \"February\", 4)\n",
    "\n",
    "#You can access tuples just like lists\n",
    "print(rosa_parks_info[0] + \" \" + rosa_parks_info[1])\n",
    "\n",
    "#You cannot modify existing tuples, but you can make new tuples that extend the information.\n",
    "#I expect Tuples to come up less than lists. So we'll just leave it at that. "
   ]
  },
  {
   "cell_type": "markdown",
   "metadata": {},
   "source": [
    "### Basic Things to do with Variables. Especially Floats."
   ]
  },
  {
   "cell_type": "code",
   "execution_count": null,
   "metadata": {
    "collapsed": false
   },
   "outputs": [],
   "source": [
    "float1 = 5.75\n",
    "float2 = 2.25\n",
    "#Addition, subtraction, multiplication, division are as you expect\n",
    "\n",
    "print(float1 + float2)\n",
    "print(float1 - float2)\n",
    "print(float1 * float2)\n",
    "print(float1 / float2)\n",
    "\n",
    "#Here's an interesting one that showed up in your first homework. Modulus. The remainder of division:\n",
    "print(5 % 2)\n",
    "\n",
    "#Just about every standard math function on a calculator has a python equivalent pre made.\n",
    "#however, they are from the 'math' package in python. Let's add that package!\n",
    "import math\n",
    "print(math.log(float1))\n",
    "print(math.exp(float2))\n",
    "print(math.pow(2,5))\n",
    "# There is a quicker way to write exponents if you want:\n",
    "print(2.0**5.0)\n",
    "\n",
    "#Like in MATLAB, you can expand the math to entire lists\n",
    "list3 = [1, 2, 3, 4, 5]\n",
    "print(2 * list3)\n",
    "\n",
    "#There's more you can do with lists in normal python, but we'll save more operations until we get to numpy."
   ]
  },
  {
   "cell_type": "markdown",
   "metadata": {},
   "source": [
    "### Conditionals in Python"
   ]
  },
  {
   "cell_type": "code",
   "execution_count": null,
   "metadata": {
    "collapsed": false,
    "scrolled": true
   },
   "outputs": [],
   "source": [
    "#Sometimes you want to execute code only in certain circumstances. We saw this on HW1.\n",
    "\n",
    "#Should be fairly straightforward:\n",
    "answer = 42\n",
    "\n",
    "if answer == 42:\n",
    "    print('This is the answer to the ultimate question')\n",
    "elif answer < 42:\n",
    "    print('This is less than the answer to the ultimate question')\n",
    "else:\n",
    "    print('This is more than the answer to the ultimate question')\n",
    "print('This print statement is run no matter what because it is not indented!')\n",
    "\n",
    "#An if statement is an example of a structure that creates a new block. The block includes all of the code that is \n",
    "#indented. The indentation (tab character) is imperative. Don't forget it!\n",
    "\n",
    "#This is normally just good coding style in other languages, but in python it isn't optional\n",
    "\n",
    "#We can check multiple things at once using boolean operations\n",
    "rainy = True\n",
    "day = \"Wednesday\"\n",
    "\n",
    "if (rainy == False) and (day != \"Tuesday\"):\n",
    "    #&& is boolean and, true only if both are true. False otherwise\n",
    "    print(\"The price for golfing is the full $10\")\n",
    "elif (rainy == True) and (day == \"Tuesday\"):\n",
    "    print(\"The price for golfing is reduced to $5!\")\n",
    "elif (rainy == True) or (day == \"Tuesday\"):\n",
    "    #|| is boolean inclusive or False only if both are false. True otherwise.\n",
    "    print(\"The price for golfing is reduced to $7.50!\")\n",
    "    \n",
    "#You can structure these statements more neatly if you \"nest\" if statements (put an if statement inside an if statement)\n",
    "#But this is just for edification."
   ]
  },
  {
   "cell_type": "markdown",
   "metadata": {},
   "source": [
    "### Functions in Python"
   ]
  },
  {
   "cell_type": "code",
   "execution_count": null,
   "metadata": {
    "collapsed": false
   },
   "outputs": [],
   "source": [
    "#We can separate off code into functions, that can take input and can give output. They serve as black boxes from the \n",
    "#perspective of the rest of our code\n",
    "\n",
    "#use the def keyword, and indent because this creates a new block\n",
    "def print_me( str ):\n",
    "   print(str)\n",
    "   \n",
    "   #End with the \"return\" keyword\n",
    "   return\n",
    "\n",
    "#Your functions can return data if you so choose\n",
    "def my_favorite_song( ):\n",
    "    ans = \"Amsterdam - Imagine Dragons\"\n",
    "    return ans\n",
    "\n",
    "#call functions by repeating their name, and putting your variable in the parenthesis. \n",
    "#Your variable need not be named the same thing, but it should be the right type!\n",
    "\n",
    "text = \"I'll take the West train, just by the side of Amsterdam\"\n",
    "print_me(text)\n",
    "print(my_favorite_song())"
   ]
  },
  {
   "cell_type": "markdown",
   "metadata": {},
   "source": [
    "### Loops in Python"
   ]
  },
  {
   "cell_type": "code",
   "execution_count": null,
   "metadata": {
    "collapsed": false
   },
   "outputs": [],
   "source": [
    "#Repeat code until a conditional statement ends the loop\n",
    "\n",
    "#Let's try printing a list\n",
    "fib = [1, 1, 2, 3, 5, 8]\n",
    "\n",
    "#While loops are the basic type\n",
    "i = 0\n",
    "while(i < len(fib)):\n",
    "    print(fib[i])\n",
    "    i = i + 1\n",
    "    \n",
    "#In matlab, to do the same thing you would have the conditional as: counter < (length(fib) + 1)\n",
    "#This is because matlab starts indexing at 1, and python starts at 0.\n",
    "    \n",
    "#The above type of loop is so common that the 'for' loop is the way to write it faster.\n",
    "\n",
    "print(\"Let's try that again\")\n",
    "#This is most similar to for loops in matlab\n",
    "for i in range(0, len(fib)) :\n",
    "    print(fib[i])\n",
    "\n",
    "print(\"One more time:\")\n",
    "#Or you can do so even neater\n",
    "for e in fib:\n",
    "    print(e)"
   ]
  },
  {
   "cell_type": "markdown",
   "metadata": {
    "collapsed": true
   },
   "source": [
    "### Numpy - \"The Fundamental Package for Scientific Computing with Python\""
   ]
  },
  {
   "cell_type": "code",
   "execution_count": 6,
   "metadata": {
    "collapsed": false
   },
   "outputs": [
    {
     "name": "stdout",
     "output_type": "stream",
     "text": [
      "[1 2 3]\n",
      "1\n",
      "[10 10 10]\n",
      "[-8 -6 -4]\n",
      "[ 9 16 21]\n",
      "[ 0.11111111  0.25        0.42857143]\n",
      "46\n"
     ]
    },
    {
     "data": {
      "text/plain": [
       "[<matplotlib.lines.Line2D at 0x10eff6dd8>]"
      ]
     },
     "execution_count": 6,
     "metadata": {},
     "output_type": "execute_result"
    },
    {
     "data": {
      "image/png": "[encoded data removed]",
      "text/plain": [
       "<matplotlib.figure.Figure at 0x10ebc9588>"
      ]
     },
     "metadata": {},
     "output_type": "display_data"
    }
   ],
   "source": [
    "import numpy as np\n",
    "#Here, we grab all of the functions and tools from the numpy package and store them in a local variable called np.\n",
    "#You can call that variable whatever you like, but 'np' is standard.\n",
    "\n",
    "#numpy has arrays, which function similarly to python lists. \n",
    "a = np.array([1,2,3])\n",
    "b = np.array([9,8,7])\n",
    "#Be careful with syntax. The parentheses and brackets are both required!\n",
    "print(a)\n",
    "\n",
    "#Access elements from them just like you would a regular list\n",
    "print(a[0])\n",
    "\n",
    "#Element-wise operations are a breeze!\n",
    "c = a + b\n",
    "d = a - b\n",
    "e = a * b\n",
    "f = a / b\n",
    "\n",
    "print(c)\n",
    "print(d)\n",
    "print(e)\n",
    "print(f)\n",
    "#This is different from MATLAB where you add a dot to get element wise operators.\n",
    "\n",
    "#If you actually do want to do matrix multiplication...\n",
    "g = np.matmul(np.transpose(a),b)\n",
    "\n",
    "print(g)\n",
    "\n",
    "#Now, let's use numpy for something essential for you: Numeric Integration\n",
    "\n",
    "#Define the function you want to integrate....\n",
    "def foo(y,t):\n",
    "    return t\n",
    "#Note this doesn't use y in the return. That is okay, but we need to include it just to satisfy the function we will use.\n",
    "\n",
    "#Set your initial or boundary condition\n",
    "IC = 0\n",
    "\n",
    "#Give the number of points to evaluate the integration\n",
    "start_time = 0\n",
    "end_time = 10\n",
    "num_times = 101\n",
    "times = np.linspace(start_time, end_time, num_times)\n",
    "\n",
    "from scipy.integrate import odeint\n",
    "integrated_func = odeint(foo,IC,times)\n",
    "\n",
    "#Can we plot the result? You betcha. Just import a new package\n",
    "%matplotlib inline\n",
    "import matplotlib.pyplot as plt\n",
    "from ipywidgets import interact\n",
    "\n",
    "plt.plot(times, integrated_func)\n",
    "#Very similar to MATLAB!"
   ]
  },
  {
   "cell_type": "markdown",
   "metadata": {},
   "source": [
    "### Additional Resources\n",
    "* If you still feel VERY lost: [Code Academy](https://www.codecademy.com/learn/python)\n",
    "\n",
    "* If you want a good reference site: [Official Python Reference](https://docs.python.org/2/reference/)\n",
    "\n",
    "* If you want to learn python robustly: [Learn Python the Hard Way](https://learnpythonthehardway.org/book/)\n",
    "\n",
    "* Feel free to contact me at: **jgerace (at) nd (dot) edu**\n"
   ]
  },
  {
   "cell_type": "code",
   "execution_count": null,
   "metadata": {
    "collapsed": true
   },
   "outputs": [],
   "source": []
  }
 ],
 "metadata": {
  "anaconda-cloud": {},
  "kernelspec": {
   "display_name": "Python 3",
   "language": "python",
   "name": "python3"
  },
  "language_info": {
   "codemirror_mode": {
    "name": "ipython",
    "version": 3
   },
   "file_extension": ".py",
   "mimetype": "text/x-python",
   "name": "python",
   "nbconvert_exporter": "python",
   "pygments_lexer": "ipython3",
   "version": "3.6.0"
  }
 },
 "nbformat": 4,
 "nbformat_minor": 1
}
